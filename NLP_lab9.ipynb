{
  "nbformat": 4,
  "nbformat_minor": 0,
  "metadata": {
    "colab": {
      "provenance": [],
      "gpuType": "T4"
    },
    "kernelspec": {
      "name": "python3",
      "display_name": "Python 3"
    },
    "language_info": {
      "name": "python"
    },
    "accelerator": "GPU"
  },
  "cells": [
    {
      "cell_type": "code",
      "execution_count": null,
      "metadata": {
        "id": "Ct3zjaQks5_c"
      },
      "outputs": [],
      "source": []
    },
    {
      "cell_type": "markdown",
      "source": [
        "Lab Exercise 9:\n",
        "Machine Translation using RNN, LSTM, and Bi-LSTM\n",
        "\n",
        "1. Implement a Neural Machine Translation (NMT) system using RNN, LSTM, and Bi-\n",
        "LSTM. Train your model on a small parallel dataset (e.g., English-to-Kannada or English-\n",
        "to-Hindi, Any Language to Any Langugae ). Compare the performance of these three\n",
        "\n",
        "models.\n",
        "2. Evaluate the quality of translations using BLEU Score and Perplexity.\n",
        "3. Implement and analyze the difference in translation accuracy when using teacher\n",
        "forcing versus without teacher forcing in training RNN-based models.\n",
        "Questions:\n",
        "1. What is the difference between RNN, LSTM, and Bi-LSTM in the context of Machine\n",
        "Translation?\n",
        "2. Why is LSTM preferred over vanilla RNNs for sequence-to-sequence tasks?\n",
        "3. How does the bidirectional nature of Bi-LSTM improve translation accuracy?\n",
        "4. What is teacher forcing, and how does it impact training in sequence-to-sequence\n",
        "models?\n",
        "5. Explain how BLEU score is calculated and its significance in evaluating translation\n",
        "quality."
      ],
      "metadata": {
        "id": "IsOmOA6Ks_Hx"
      }
    },
    {
      "cell_type": "code",
      "source": [
        "import pandas as pd\n",
        "\n",
        "\n",
        "df = pd.read_csv('/content/eng_-french.csv')\n",
        "\n",
        "\n",
        "df = df.rename(columns={'English words/sentences': 'english', 'French words/sentences': 'french'})\n",
        "\n",
        "\n",
        "df.head()\n"
      ],
      "metadata": {
        "colab": {
          "base_uri": "https://localhost:8080/",
          "height": 206
        },
        "id": "eh6FNdJewcNd",
        "outputId": "e7b210da-d549-423b-9f73-679586e3530d"
      },
      "execution_count": 3,
      "outputs": [
        {
          "output_type": "execute_result",
          "data": {
            "text/plain": [
              "  english      french\n",
              "0     Hi.      Salut!\n",
              "1    Run!     Cours !\n",
              "2    Run!    Courez !\n",
              "3    Who?       Qui ?\n",
              "4    Wow!  Ça alors !"
            ],
            "text/html": [
              "\n",
              "  <div id=\"df-86811cf0-6d65-4638-b2f5-2d3eca84be4b\" class=\"colab-df-container\">\n",
              "    <div>\n",
              "<style scoped>\n",
              "    .dataframe tbody tr th:only-of-type {\n",
              "        vertical-align: middle;\n",
              "    }\n",
              "\n",
              "    .dataframe tbody tr th {\n",
              "        vertical-align: top;\n",
              "    }\n",
              "\n",
              "    .dataframe thead th {\n",
              "        text-align: right;\n",
              "    }\n",
              "</style>\n",
              "<table border=\"1\" class=\"dataframe\">\n",
              "  <thead>\n",
              "    <tr style=\"text-align: right;\">\n",
              "      <th></th>\n",
              "      <th>english</th>\n",
              "      <th>french</th>\n",
              "    </tr>\n",
              "  </thead>\n",
              "  <tbody>\n",
              "    <tr>\n",
              "      <th>0</th>\n",
              "      <td>Hi.</td>\n",
              "      <td>Salut!</td>\n",
              "    </tr>\n",
              "    <tr>\n",
              "      <th>1</th>\n",
              "      <td>Run!</td>\n",
              "      <td>Cours !</td>\n",
              "    </tr>\n",
              "    <tr>\n",
              "      <th>2</th>\n",
              "      <td>Run!</td>\n",
              "      <td>Courez !</td>\n",
              "    </tr>\n",
              "    <tr>\n",
              "      <th>3</th>\n",
              "      <td>Who?</td>\n",
              "      <td>Qui ?</td>\n",
              "    </tr>\n",
              "    <tr>\n",
              "      <th>4</th>\n",
              "      <td>Wow!</td>\n",
              "      <td>Ça alors !</td>\n",
              "    </tr>\n",
              "  </tbody>\n",
              "</table>\n",
              "</div>\n",
              "    <div class=\"colab-df-buttons\">\n",
              "\n",
              "  <div class=\"colab-df-container\">\n",
              "    <button class=\"colab-df-convert\" onclick=\"convertToInteractive('df-86811cf0-6d65-4638-b2f5-2d3eca84be4b')\"\n",
              "            title=\"Convert this dataframe to an interactive table.\"\n",
              "            style=\"display:none;\">\n",
              "\n",
              "  <svg xmlns=\"http://www.w3.org/2000/svg\" height=\"24px\" viewBox=\"0 -960 960 960\">\n",
              "    <path d=\"M120-120v-720h720v720H120Zm60-500h600v-160H180v160Zm220 220h160v-160H400v160Zm0 220h160v-160H400v160ZM180-400h160v-160H180v160Zm440 0h160v-160H620v160ZM180-180h160v-160H180v160Zm440 0h160v-160H620v160Z\"/>\n",
              "  </svg>\n",
              "    </button>\n",
              "\n",
              "  <style>\n",
              "    .colab-df-container {\n",
              "      display:flex;\n",
              "      gap: 12px;\n",
              "    }\n",
              "\n",
              "    .colab-df-convert {\n",
              "      background-color: #E8F0FE;\n",
              "      border: none;\n",
              "      border-radius: 50%;\n",
              "      cursor: pointer;\n",
              "      display: none;\n",
              "      fill: #1967D2;\n",
              "      height: 32px;\n",
              "      padding: 0 0 0 0;\n",
              "      width: 32px;\n",
              "    }\n",
              "\n",
              "    .colab-df-convert:hover {\n",
              "      background-color: #E2EBFA;\n",
              "      box-shadow: 0px 1px 2px rgba(60, 64, 67, 0.3), 0px 1px 3px 1px rgba(60, 64, 67, 0.15);\n",
              "      fill: #174EA6;\n",
              "    }\n",
              "\n",
              "    .colab-df-buttons div {\n",
              "      margin-bottom: 4px;\n",
              "    }\n",
              "\n",
              "    [theme=dark] .colab-df-convert {\n",
              "      background-color: #3B4455;\n",
              "      fill: #D2E3FC;\n",
              "    }\n",
              "\n",
              "    [theme=dark] .colab-df-convert:hover {\n",
              "      background-color: #434B5C;\n",
              "      box-shadow: 0px 1px 3px 1px rgba(0, 0, 0, 0.15);\n",
              "      filter: drop-shadow(0px 1px 2px rgba(0, 0, 0, 0.3));\n",
              "      fill: #FFFFFF;\n",
              "    }\n",
              "  </style>\n",
              "\n",
              "    <script>\n",
              "      const buttonEl =\n",
              "        document.querySelector('#df-86811cf0-6d65-4638-b2f5-2d3eca84be4b button.colab-df-convert');\n",
              "      buttonEl.style.display =\n",
              "        google.colab.kernel.accessAllowed ? 'block' : 'none';\n",
              "\n",
              "      async function convertToInteractive(key) {\n",
              "        const element = document.querySelector('#df-86811cf0-6d65-4638-b2f5-2d3eca84be4b');\n",
              "        const dataTable =\n",
              "          await google.colab.kernel.invokeFunction('convertToInteractive',\n",
              "                                                    [key], {});\n",
              "        if (!dataTable) return;\n",
              "\n",
              "        const docLinkHtml = 'Like what you see? Visit the ' +\n",
              "          '<a target=\"_blank\" href=https://colab.research.google.com/notebooks/data_table.ipynb>data table notebook</a>'\n",
              "          + ' to learn more about interactive tables.';\n",
              "        element.innerHTML = '';\n",
              "        dataTable['output_type'] = 'display_data';\n",
              "        await google.colab.output.renderOutput(dataTable, element);\n",
              "        const docLink = document.createElement('div');\n",
              "        docLink.innerHTML = docLinkHtml;\n",
              "        element.appendChild(docLink);\n",
              "      }\n",
              "    </script>\n",
              "  </div>\n",
              "\n",
              "\n",
              "<div id=\"df-3d923e89-9f8a-4ab8-8178-0c523d15b39b\">\n",
              "  <button class=\"colab-df-quickchart\" onclick=\"quickchart('df-3d923e89-9f8a-4ab8-8178-0c523d15b39b')\"\n",
              "            title=\"Suggest charts\"\n",
              "            style=\"display:none;\">\n",
              "\n",
              "<svg xmlns=\"http://www.w3.org/2000/svg\" height=\"24px\"viewBox=\"0 0 24 24\"\n",
              "     width=\"24px\">\n",
              "    <g>\n",
              "        <path d=\"M19 3H5c-1.1 0-2 .9-2 2v14c0 1.1.9 2 2 2h14c1.1 0 2-.9 2-2V5c0-1.1-.9-2-2-2zM9 17H7v-7h2v7zm4 0h-2V7h2v10zm4 0h-2v-4h2v4z\"/>\n",
              "    </g>\n",
              "</svg>\n",
              "  </button>\n",
              "\n",
              "<style>\n",
              "  .colab-df-quickchart {\n",
              "      --bg-color: #E8F0FE;\n",
              "      --fill-color: #1967D2;\n",
              "      --hover-bg-color: #E2EBFA;\n",
              "      --hover-fill-color: #174EA6;\n",
              "      --disabled-fill-color: #AAA;\n",
              "      --disabled-bg-color: #DDD;\n",
              "  }\n",
              "\n",
              "  [theme=dark] .colab-df-quickchart {\n",
              "      --bg-color: #3B4455;\n",
              "      --fill-color: #D2E3FC;\n",
              "      --hover-bg-color: #434B5C;\n",
              "      --hover-fill-color: #FFFFFF;\n",
              "      --disabled-bg-color: #3B4455;\n",
              "      --disabled-fill-color: #666;\n",
              "  }\n",
              "\n",
              "  .colab-df-quickchart {\n",
              "    background-color: var(--bg-color);\n",
              "    border: none;\n",
              "    border-radius: 50%;\n",
              "    cursor: pointer;\n",
              "    display: none;\n",
              "    fill: var(--fill-color);\n",
              "    height: 32px;\n",
              "    padding: 0;\n",
              "    width: 32px;\n",
              "  }\n",
              "\n",
              "  .colab-df-quickchart:hover {\n",
              "    background-color: var(--hover-bg-color);\n",
              "    box-shadow: 0 1px 2px rgba(60, 64, 67, 0.3), 0 1px 3px 1px rgba(60, 64, 67, 0.15);\n",
              "    fill: var(--button-hover-fill-color);\n",
              "  }\n",
              "\n",
              "  .colab-df-quickchart-complete:disabled,\n",
              "  .colab-df-quickchart-complete:disabled:hover {\n",
              "    background-color: var(--disabled-bg-color);\n",
              "    fill: var(--disabled-fill-color);\n",
              "    box-shadow: none;\n",
              "  }\n",
              "\n",
              "  .colab-df-spinner {\n",
              "    border: 2px solid var(--fill-color);\n",
              "    border-color: transparent;\n",
              "    border-bottom-color: var(--fill-color);\n",
              "    animation:\n",
              "      spin 1s steps(1) infinite;\n",
              "  }\n",
              "\n",
              "  @keyframes spin {\n",
              "    0% {\n",
              "      border-color: transparent;\n",
              "      border-bottom-color: var(--fill-color);\n",
              "      border-left-color: var(--fill-color);\n",
              "    }\n",
              "    20% {\n",
              "      border-color: transparent;\n",
              "      border-left-color: var(--fill-color);\n",
              "      border-top-color: var(--fill-color);\n",
              "    }\n",
              "    30% {\n",
              "      border-color: transparent;\n",
              "      border-left-color: var(--fill-color);\n",
              "      border-top-color: var(--fill-color);\n",
              "      border-right-color: var(--fill-color);\n",
              "    }\n",
              "    40% {\n",
              "      border-color: transparent;\n",
              "      border-right-color: var(--fill-color);\n",
              "      border-top-color: var(--fill-color);\n",
              "    }\n",
              "    60% {\n",
              "      border-color: transparent;\n",
              "      border-right-color: var(--fill-color);\n",
              "    }\n",
              "    80% {\n",
              "      border-color: transparent;\n",
              "      border-right-color: var(--fill-color);\n",
              "      border-bottom-color: var(--fill-color);\n",
              "    }\n",
              "    90% {\n",
              "      border-color: transparent;\n",
              "      border-bottom-color: var(--fill-color);\n",
              "    }\n",
              "  }\n",
              "</style>\n",
              "\n",
              "  <script>\n",
              "    async function quickchart(key) {\n",
              "      const quickchartButtonEl =\n",
              "        document.querySelector('#' + key + ' button');\n",
              "      quickchartButtonEl.disabled = true;  // To prevent multiple clicks.\n",
              "      quickchartButtonEl.classList.add('colab-df-spinner');\n",
              "      try {\n",
              "        const charts = await google.colab.kernel.invokeFunction(\n",
              "            'suggestCharts', [key], {});\n",
              "      } catch (error) {\n",
              "        console.error('Error during call to suggestCharts:', error);\n",
              "      }\n",
              "      quickchartButtonEl.classList.remove('colab-df-spinner');\n",
              "      quickchartButtonEl.classList.add('colab-df-quickchart-complete');\n",
              "    }\n",
              "    (() => {\n",
              "      let quickchartButtonEl =\n",
              "        document.querySelector('#df-3d923e89-9f8a-4ab8-8178-0c523d15b39b button');\n",
              "      quickchartButtonEl.style.display =\n",
              "        google.colab.kernel.accessAllowed ? 'block' : 'none';\n",
              "    })();\n",
              "  </script>\n",
              "</div>\n",
              "\n",
              "    </div>\n",
              "  </div>\n"
            ],
            "application/vnd.google.colaboratory.intrinsic+json": {
              "type": "dataframe",
              "variable_name": "df"
            }
          },
          "metadata": {},
          "execution_count": 3
        }
      ]
    },
    {
      "cell_type": "code",
      "source": [
        " print(df.columns)"
      ],
      "metadata": {
        "colab": {
          "base_uri": "https://localhost:8080/"
        },
        "id": "FExAzh87xO1-",
        "outputId": "3ec1d132-a7a5-482b-cb0b-b233dc1e58b7"
      },
      "execution_count": 4,
      "outputs": [
        {
          "output_type": "stream",
          "name": "stdout",
          "text": [
            "Index(['english', 'french'], dtype='object')\n"
          ]
        }
      ]
    },
    {
      "cell_type": "code",
      "source": [
        "df = df.dropna(subset=['english', 'french'])\n"
      ],
      "metadata": {
        "id": "d196Pc5juMth"
      },
      "execution_count": 5,
      "outputs": []
    },
    {
      "cell_type": "code",
      "source": [
        "import pandas as pd\n",
        "import numpy as np\n",
        "import tensorflow as tf\n",
        "from sklearn.model_selection import train_test_split\n",
        "from tensorflow.keras.preprocessing.text import Tokenizer\n",
        "from tensorflow.keras.preprocessing.sequence import pad_sequences\n",
        "class Encoder(tf.keras.Model):\n",
        "    def __init__(self, vocab_size, embedding_dim, units, cell_type='rnn'):\n",
        "        super(Encoder, self).__init__()\n",
        "        self.embedding = tf.keras.layers.Embedding(vocab_size, embedding_dim)\n",
        "        if cell_type == 'rnn':\n",
        "            self.rnn = tf.keras.layers.SimpleRNN(units, return_sequences=True, return_state=True)\n",
        "        elif cell_type == 'lstm':\n",
        "            self.rnn = tf.keras.layers.LSTM(units, return_sequences=True, return_state=True)\n",
        "        elif cell_type == 'bilstm':\n",
        "            self.rnn = tf.keras.layers.Bidirectional(\n",
        "                tf.keras.layers.LSTM(units, return_sequences=True, return_state=True),\n",
        "                merge_mode='concat'\n",
        "            )\n",
        "\n",
        "    def call(self, x):\n",
        "        x = self.embedding(x)\n",
        "        output = self.rnn(x)\n",
        "        return output\n",
        "\n",
        "\n",
        "class Decoder(tf.keras.Model):\n",
        "    def __init__(self, vocab_size, embedding_dim, units, cell_type='rnn'):\n",
        "        super(Decoder, self).__init__()\n",
        "        self.embedding = tf.keras.layers.Embedding(vocab_size, embedding_dim)\n",
        "        if cell_type == 'rnn':\n",
        "            self.rnn = tf.keras.layers.SimpleRNN(units, return_sequences=True, return_state=True)\n",
        "        elif cell_type == 'lstm':\n",
        "            self.rnn = tf.keras.layers.LSTM(units, return_sequences=True, return_state=True)\n",
        "        elif cell_type == 'bilstm':\n",
        "            self.rnn = tf.keras.layers.Bidirectional(\n",
        "                tf.keras.layers.LSTM(units, return_sequences=True, return_state=True),\n",
        "                merge_mode='concat'\n",
        "            )\n",
        "        self.fc = tf.keras.layers.Dense(vocab_size)\n",
        "\n",
        "    def call(self, x, enc_output):\n",
        "        x = self.embedding(x)\n",
        "        x = self.rnn(x)[0]\n",
        "        x = self.fc(x)\n",
        "        return x\n"
      ],
      "metadata": {
        "id": "bGeU1wwjxVe2"
      },
      "execution_count": null,
      "outputs": []
    },
    {
      "cell_type": "code",
      "source": [
        "def train_model(cell_type='rnn', epochs=2):\n",
        "    embedding_dim = 64\n",
        "    units = 128\n",
        "\n",
        "    encoder = Encoder(inp_vocab_size, embedding_dim, units, cell_type)\n",
        "    decoder = Decoder(targ_vocab_size, embedding_dim, units, cell_type)\n",
        "\n",
        "    # Model definition\n",
        "    input_seq = tf.keras.Input(shape=(None,))\n",
        "    target_seq = tf.keras.Input(shape=(None,))\n",
        "\n",
        "    enc_output, *_ = encoder(input_seq)\n",
        "    dec_output = decoder(target_seq, enc_output)\n",
        "\n",
        "    model = tf.keras.Model(inputs=[input_seq, target_seq], outputs=dec_output)\n",
        "    model.compile(optimizer='adam', loss='sparse_categorical_crossentropy', metrics=['accuracy'])\n",
        "\n",
        "    history = model.fit(\n",
        "        [input_train, target_train[:, :-1]],\n",
        "        target_train[:, 1:][..., np.newaxis],\n",
        "        validation_data=(\n",
        "            [input_val, target_val[:, :-1]],\n",
        "            target_val[:, 1:][..., np.newaxis]\n",
        "        ),\n",
        "        batch_size=64,\n",
        "        epochs=epochs,\n",
        "        verbose=1\n",
        "    )\n",
        "\n",
        "    print(f\"{cell_type.upper()} model training complete.\")\n",
        "    return model, history\n"
      ],
      "metadata": {
        "id": "0nNC7xA6xgWk"
      },
      "execution_count": null,
      "outputs": []
    },
    {
      "cell_type": "code",
      "source": [
        "\n",
        "df = df[['french', 'english']].dropna()\n",
        "df['french'] = df['french'].apply(lambda x: '<start> ' + x.strip() + ' <end>')\n",
        "df['english'] = df['english'].apply(lambda x: x.strip())\n",
        "\n",
        "# 2. Tokenization\n",
        "def tokenize(texts):\n",
        "    tokenizer = tf.keras.preprocessing.text.Tokenizer(filters='', lower=True)\n",
        "    tokenizer.fit_on_texts(texts)\n",
        "    sequences = tokenizer.texts_to_sequences(texts)\n",
        "    padded = tf.keras.preprocessing.sequence.pad_sequences(sequences, padding='post')\n",
        "    return padded, tokenizer\n",
        "\n",
        "input_tensor, inp_tokenizer = tokenize(df['english'])  # English is input\n",
        "target_tensor, targ_tokenizer = tokenize(df['french'])  # French is target\n",
        "\n",
        "# 3. Vocab sizes (✅ make these GLOBAL so train_model() can access them)\n",
        "inp_vocab_size = len(inp_tokenizer.word_index) + 1\n",
        "targ_vocab_size = len(targ_tokenizer.word_index) + 1\n",
        "\n",
        "# 4. Train/test split\n",
        "from sklearn.model_selection import train_test_split\n",
        "input_train, input_val, target_train, target_val = train_test_split(\n",
        "    input_tensor, target_tensor, test_size=0.2\n",
        ")\n",
        "\n",
        "\n"
      ],
      "metadata": {
        "id": "vCmn8SyFxvrF"
      },
      "execution_count": null,
      "outputs": []
    },
    {
      "cell_type": "code",
      "source": [
        "rnn_model, rnn_hist = train_model('rnn')\n",
        "lstm_model, lstm_hist = train_model('lstm')\n",
        "bilstm_model, bilstm_hist = train_model('bilstm')\n"
      ],
      "metadata": {
        "colab": {
          "base_uri": "https://localhost:8080/"
        },
        "id": "NjzIZVPvxltw",
        "outputId": "d7456c5b-0ed9-410d-a033-30839f30b206"
      },
      "execution_count": null,
      "outputs": [
        {
          "output_type": "stream",
          "name": "stdout",
          "text": [
            "Epoch 1/2\n"
          ]
        },
        {
          "output_type": "stream",
          "name": "stderr",
          "text": [
            "/usr/local/lib/python3.11/dist-packages/keras/src/optimizers/base_optimizer.py:774: UserWarning: Gradients do not exist for variables ['encoder_2/embedding_4/embeddings', 'encoder_2/simple_rnn_4/simple_rnn_cell/kernel', 'encoder_2/simple_rnn_4/simple_rnn_cell/recurrent_kernel', 'encoder_2/simple_rnn_4/simple_rnn_cell/bias'] when minimizing the loss. If using `model.compile()`, did you forget to provide a `loss` argument?\n",
            "  warnings.warn(\n"
          ]
        },
        {
          "output_type": "stream",
          "name": "stdout",
          "text": [
            "\u001b[1m2196/2196\u001b[0m \u001b[32m━━━━━━━━━━━━━━━━━━━━\u001b[0m\u001b[37m\u001b[0m \u001b[1m215s\u001b[0m 95ms/step - accuracy: 0.8327 - loss: 1.8857 - val_accuracy: 0.8476 - val_loss: 1.7359\n",
            "Epoch 2/2\n",
            "\u001b[1m2196/2196\u001b[0m \u001b[32m━━━━━━━━━━━━━━━━━━━━\u001b[0m\u001b[37m\u001b[0m \u001b[1m254s\u001b[0m 93ms/step - accuracy: 0.8475 - loss: 1.6698 - val_accuracy: 0.8463 - val_loss: 1.6743\n",
            "RNN model training complete.\n",
            "Epoch 1/2\n"
          ]
        },
        {
          "output_type": "stream",
          "name": "stderr",
          "text": [
            "/usr/local/lib/python3.11/dist-packages/keras/src/optimizers/base_optimizer.py:774: UserWarning: Gradients do not exist for variables ['encoder_3/embedding_6/embeddings', 'encoder_3/lstm/lstm_cell/kernel', 'encoder_3/lstm/lstm_cell/recurrent_kernel', 'encoder_3/lstm/lstm_cell/bias'] when minimizing the loss. If using `model.compile()`, did you forget to provide a `loss` argument?\n",
            "  warnings.warn(\n"
          ]
        },
        {
          "output_type": "stream",
          "name": "stdout",
          "text": [
            "\u001b[1m2196/2196\u001b[0m \u001b[32m━━━━━━━━━━━━━━━━━━━━\u001b[0m\u001b[37m\u001b[0m \u001b[1m569s\u001b[0m 256ms/step - accuracy: 0.8767 - loss: 1.3386 - val_accuracy: 0.8930 - val_loss: 1.1613\n",
            "Epoch 2/2\n",
            "\u001b[1m2196/2196\u001b[0m \u001b[32m━━━━━━━━━━━━━━━━━━━━\u001b[0m\u001b[37m\u001b[0m \u001b[1m617s\u001b[0m 256ms/step - accuracy: 0.8926 - loss: 1.1637 - val_accuracy: 0.8763 - val_loss: 1.3362\n",
            "LSTM model training complete.\n",
            "Epoch 1/2\n"
          ]
        },
        {
          "output_type": "stream",
          "name": "stderr",
          "text": [
            "/usr/local/lib/python3.11/dist-packages/keras/src/optimizers/base_optimizer.py:774: UserWarning: Gradients do not exist for variables ['encoder_4/embedding_8/embeddings', 'encoder_4/bidirectional/forward_lstm_2/lstm_cell/kernel', 'encoder_4/bidirectional/forward_lstm_2/lstm_cell/recurrent_kernel', 'encoder_4/bidirectional/forward_lstm_2/lstm_cell/bias', 'encoder_4/bidirectional/backward_lstm_2/lstm_cell/kernel', 'encoder_4/bidirectional/backward_lstm_2/lstm_cell/recurrent_kernel', 'encoder_4/bidirectional/backward_lstm_2/lstm_cell/bias'] when minimizing the loss. If using `model.compile()`, did you forget to provide a `loss` argument?\n",
            "  warnings.warn(\n"
          ]
        },
        {
          "output_type": "stream",
          "name": "stdout",
          "text": [
            "\u001b[1m2196/2196\u001b[0m \u001b[32m━━━━━━━━━━━━━━━━━━━━\u001b[0m\u001b[37m\u001b[0m \u001b[1m692s\u001b[0m 314ms/step - accuracy: 0.1234 - loss: 9.5314 - val_accuracy: 0.1340 - val_loss: 9.3259\n",
            "Epoch 2/2\n",
            "\u001b[1m2196/2196\u001b[0m \u001b[32m━━━━━━━━━━━━━━━━━━━━\u001b[0m\u001b[37m\u001b[0m \u001b[1m734s\u001b[0m 310ms/step - accuracy: 0.1338 - loss: 9.3243 - val_accuracy: 0.1371 - val_loss: 9.2771\n",
            "BILSTM model training complete.\n"
          ]
        }
      ]
    },
    {
      "cell_type": "code",
      "source": [
        "import matplotlib.pyplot as plt\n",
        "\n",
        "def plot_histories(histories, labels):\n",
        "    for hist, label in zip(histories, labels):\n",
        "        plt.plot(hist.history['val_accuracy'], label=label)\n",
        "    plt.title('Validation Accuracy Over Epochs')\n",
        "    plt.xlabel('Epoch')\n",
        "    plt.ylabel('Validation Accuracy')\n",
        "    plt.legend()\n",
        "    plt.grid(True)\n",
        "    plt.show()\n",
        "\n",
        "plot_histories([rnn_hist, lstm_hist, bilstm_hist], ['RNN', 'LSTM', 'Bi-LSTM'])\n"
      ],
      "metadata": {
        "colab": {
          "base_uri": "https://localhost:8080/",
          "height": 472
        },
        "id": "eYINEw0YWG3q",
        "outputId": "c8bb0de9-18c5-4a59-8a6a-bf0c1ab37e3c"
      },
      "execution_count": null,
      "outputs": [
        {
          "output_type": "display_data",
          "data": {
            "text/plain": [
              "<Figure size 640x480 with 1 Axes>"
            ],
            "image/png": "[encoded data removed]"
          },
          "metadata": {}
        }
      ]
    },
    {
      "cell_type": "code",
      "source": [
        "# Reverse tokenizer maps\n",
        "reverse_target_index = {idx: word for word, idx in targ_tokenizer.word_index.items()}\n",
        "reverse_target_index[0] = ''\n",
        "\n",
        "def sequence_to_text(sequence):\n",
        "    return ' '.join([reverse_target_index.get(idx, '') for idx in sequence]).strip()\n"
      ],
      "metadata": {
        "id": "MH6QC0WYWKJT"
      },
      "execution_count": null,
      "outputs": []
    },
    {
      "cell_type": "code",
      "source": [
        "def predict_translation(model, input_seq, max_len=20):\n",
        "    enc_input = tf.expand_dims(input_seq, axis=0)\n",
        "    dec_input = tf.expand_dims([targ_tokenizer.word_index['<start>']], axis=0)\n",
        "\n",
        "    result = []\n",
        "\n",
        "    for _ in range(max_len):\n",
        "        predictions = model.predict([enc_input, dec_input], verbose=0)\n",
        "        predicted_id = tf.argmax(predictions[0, -1, :]).numpy()\n",
        "        if predicted_id == targ_tokenizer.word_index['<end>']:\n",
        "            break\n",
        "        result.append(predicted_id)\n",
        "        dec_input = tf.concat([dec_input, [[predicted_id]]], axis=-1)\n",
        "\n",
        "    return sequence_to_text(result)\n"
      ],
      "metadata": {
        "id": "tZsgi8McWVAh"
      },
      "execution_count": null,
      "outputs": []
    },
    {
      "cell_type": "code",
      "source": [
        "from nltk.translate.bleu_score import sentence_bleu, SmoothingFunction\n",
        "\n",
        "def evaluate_bleu(model, num_samples=100):\n",
        "    smoothie = SmoothingFunction().method4\n",
        "    bleu_scores = []\n",
        "\n",
        "    for i in range(num_samples):\n",
        "        input_seq = input_val[i]\n",
        "        target_seq = target_val[i]\n",
        "\n",
        "        reference = [sequence_to_text(target_seq).replace('<start>', '').replace('<end>', '').strip().split()]\n",
        "        candidate = predict_translation(model, input_seq).split()\n",
        "\n",
        "        bleu = sentence_bleu(reference, candidate, smoothing_function=smoothie)\n",
        "        bleu_scores.append(bleu)\n",
        "\n",
        "    return np.mean(bleu_scores)\n"
      ],
      "metadata": {
        "id": "fGkjhYKAWXQR"
      },
      "execution_count": null,
      "outputs": []
    },
    {
      "cell_type": "code",
      "source": [
        "def compute_perplexity(model, input_data, target_data):\n",
        "    loss, _ = model.evaluate([input_data, target_data[:, :-1]], target_data[:, 1:][..., np.newaxis], verbose=0)\n",
        "    return np.exp(loss)\n"
      ],
      "metadata": {
        "id": "lNuekBokWaRC"
      },
      "execution_count": null,
      "outputs": []
    },
    {
      "cell_type": "code",
      "source": [
        "# BLEU Score\n",
        "bleu_rnn = evaluate_bleu(rnn_model)\n",
        "bleu_lstm = evaluate_bleu(lstm_model)\n",
        "bleu_bilstm = evaluate_bleu(bilstm_model)\n",
        "\n",
        "# Perplexity\n",
        "perp_rnn = compute_perplexity(rnn_model, input_val, target_val)\n",
        "perp_lstm = compute_perplexity(lstm_model, input_val, target_val)\n",
        "perp_bilstm = compute_perplexity(bilstm_model, input_val, target_val)\n",
        "\n",
        "print(f\"BLEU Scores:\\nRNN: {bleu_rnn:.4f}, LSTM: {bleu_lstm:.4f}, Bi-LSTM: {bleu_bilstm:.4f}\")\n",
        "print(f\"Perplexity:\\nRNN: {perp_rnn:.2f}, LSTM: {perp_lstm:.2f}, Bi-LSTM: {perp_bilstm:.2f}\")\n"
      ],
      "metadata": {
        "colab": {
          "base_uri": "https://localhost:8080/"
        },
        "id": "1SzLTuW1Wc5y",
        "outputId": "90cc2402-0b7a-4799-d76c-085b266b27ce"
      },
      "execution_count": null,
      "outputs": [
        {
          "output_type": "stream",
          "name": "stdout",
          "text": [
            "BLEU Scores:\n",
            "RNN: 0.0024, LSTM: 0.0041, Bi-LSTM: 0.0039\n",
            "Perplexity:\n",
            "RNN: 5.34, LSTM: 3.80, Bi-LSTM: 10690.49\n"
          ]
        }
      ]
    },
    {
      "cell_type": "markdown",
      "source": [
        "the blue scores are quiet less, possibly due to small dataset or underfitting.\n",
        "bi-lstm worst with perplexity\n"
      ],
      "metadata": {
        "id": "ld_Un4Zx32pT"
      }
    },
    {
      "cell_type": "code",
      "source": [
        "def train_model_rnn_teacher_forcing(use_teacher_forcing=True, epochs=10):\n",
        "    embedding_dim = 256\n",
        "    units = 128\n",
        "\n",
        "    encoder = Encoder(inp_vocab_size, embedding_dim, units, 'rnn')\n",
        "    decoder = Decoder(targ_vocab_size, embedding_dim, units, 'rnn')\n",
        "\n",
        "    inp = tf.keras.Input(shape=(None,))\n",
        "    targ = tf.keras.Input(shape=(None,))\n",
        "\n",
        "    enc_output, state_h, _ = encoder(inp)\n",
        "    dec_input = targ[:, :-1] if use_teacher_forcing else tf.zeros_like(targ[:, :-1])\n",
        "\n",
        "    if not use_teacher_forcing:\n",
        "        def loop_fn(inputs):\n",
        "            # Auto-regressive decoding (no teacher forcing)\n",
        "            all_outputs = []\n",
        "            x = tf.expand_dims([targ_tokenizer.word_index['<start>']] * tf.shape(inputs)[0], 1)\n",
        "            state = state_h\n",
        "\n",
        "            for _ in range(tf.shape(inputs)[1]):\n",
        "                out, state = decoder.rnn(decoder.embedding(x), initial_state=state)\n",
        "                x = tf.argmax(out, axis=-1)\n",
        "                all_outputs.append(tf.expand_dims(out, 1))\n",
        "            return tf.concat(all_outputs, axis=1)\n",
        "\n",
        "        dec_outputs = tf.keras.layers.Lambda(loop_fn)(inp)\n",
        "    else:\n",
        "        dec_output, _ = decoder(targ[:, :-1], initial_state=state_h)\n",
        "        dec_outputs = dec_output\n",
        "\n",
        "    model = tf.keras.Model([inp, targ], dec_outputs)\n",
        "\n",
        "    model.compile(optimizer='adam', loss='sparse_categorical_crossentropy', metrics=['accuracy'])\n",
        "\n",
        "    history = model.fit([input_train, target_train],\n",
        "                        target_train[:, 1:][..., np.newaxis],\n",
        "                        validation_data=([input_val, target_val], target_val[:, 1:][..., np.newaxis]),\n",
        "                        epochs=epochs)\n",
        "\n",
        "    return model, history\n"
      ],
      "metadata": {
        "id": "LB19amHGY2Ay"
      },
      "execution_count": 23,
      "outputs": []
    },
    {
      "cell_type": "code",
      "source": [
        "import pandas as pd\n",
        "import numpy as np\n",
        "import tensorflow as tf\n",
        "from sklearn.model_selection import train_test_split\n",
        "from tensorflow.keras.preprocessing.text import Tokenizer\n",
        "from tensorflow.keras.preprocessing.sequence import pad_sequences\n",
        "class Encoder(tf.keras.Model):\n",
        "    def __init__(self, vocab_size, embedding_dim, enc_units, cell_type='rnn'):\n",
        "        super(Encoder, self).__init__()\n",
        "        self.enc_units = enc_units\n",
        "        self.embedding = tf.keras.layers.Embedding(vocab_size, embedding_dim)\n",
        "\n",
        "        if cell_type == 'rnn':\n",
        "            self.rnn = tf.keras.layers.SimpleRNN(enc_units, return_sequences=True, return_state=True)\n",
        "        elif cell_type == 'lstm':\n",
        "            self.rnn = tf.keras.layers.LSTM(enc_units, return_sequences=True, return_state=True)\n",
        "        elif cell_type == 'bilstm':\n",
        "            self.rnn = tf.keras.layers.Bidirectional(\n",
        "                tf.keras.layers.LSTM(enc_units, return_sequences=True, return_state=True), merge_mode='sum')\n",
        "\n",
        "    def call(self, x):\n",
        "        x = self.embedding(x)\n",
        "        if isinstance(self.rnn, tf.keras.layers.Bidirectional):\n",
        "            output, forward_h, forward_c, backward_h, backward_c = self.rnn(x)\n",
        "            state_h = forward_h + backward_h\n",
        "            state_c = forward_c + backward_c\n",
        "            return output, state_h, state_c\n",
        "        else:\n",
        "            output, state_h, state_c = self.rnn(x)\n",
        "            return output, state_h, state_c\n"
      ],
      "metadata": {
        "id": "s_Wk8NRP5LNo"
      },
      "execution_count": 24,
      "outputs": []
    },
    {
      "cell_type": "code",
      "source": [
        "class Decoder(tf.keras.Model):\n",
        "    def __init__(self, vocab_size, embedding_dim, dec_units, cell_type='rnn'):\n",
        "        super(Decoder, self).__init__()\n",
        "        self.dec_units = dec_units\n",
        "        self.embedding = tf.keras.layers.Embedding(vocab_size, embedding_dim)\n",
        "\n",
        "        if cell_type == 'rnn':\n",
        "            self.rnn = tf.keras.layers.SimpleRNN(dec_units, return_sequences=True, return_state=True)\n",
        "        elif cell_type == 'lstm':\n",
        "            self.rnn = tf.keras.layers.LSTM(dec_units, return_sequences=True, return_state=True)\n",
        "        elif cell_type == 'bilstm':\n",
        "            self.rnn = tf.keras.layers.Bidirectional(\n",
        "                tf.keras.layers.LSTM(dec_units, return_sequences=True, return_state=True), merge_mode='sum')\n",
        "\n",
        "        self.fc = tf.keras.layers.Dense(vocab_size)\n",
        "\n",
        "    def call(self, x, initial_state):\n",
        "        x = self.embedding(x)\n",
        "        x, state_h, state_c = self.rnn(x, initial_state=initial_state)\n",
        "        x = self.fc(x)\n",
        "        return x, state_h\n"
      ],
      "metadata": {
        "id": "mCWEgJ2d5UpL"
      },
      "execution_count": 25,
      "outputs": []
    },
    {
      "cell_type": "code",
      "source": [
        "import pandas as pd\n",
        "\n",
        "df = pd.read_csv(\"/content/eng_-french.csv\")\n",
        "print(df.columns.tolist())\n"
      ],
      "metadata": {
        "colab": {
          "base_uri": "https://localhost:8080/"
        },
        "id": "4Xf_tZp97eU_",
        "outputId": "6b59932d-b1da-4c14-9850-992a488a206e"
      },
      "execution_count": 19,
      "outputs": [
        {
          "output_type": "stream",
          "name": "stdout",
          "text": [
            "['English words/sentences', 'French words/sentences']\n"
          ]
        }
      ]
    },
    {
      "cell_type": "code",
      "source": [
        "import pandas as pd\n",
        "from tensorflow.keras.preprocessing.text import Tokenizer\n",
        "from tensorflow.keras.preprocessing.sequence import pad_sequences\n",
        "\n",
        "# Load your CSV (replace with your actual file name)\n",
        "df = pd.read_csv(\"/content/eng_-french.csv\")\n",
        "\n",
        "# Extract the source (English) and target (French) texts\n",
        "input_texts = df['English words/sentences'].astype(str).tolist()\n",
        "target_texts = ['<start> ' + text + ' <end>' for text in df['French words/sentences'].astype(str).tolist()]\n",
        "\n",
        "# Tokenizer for English (input)\n",
        "input_tokenizer = Tokenizer(filters='')\n",
        "input_tokenizer.fit_on_texts(input_texts)\n",
        "input_tensor = input_tokenizer.texts_to_sequences(input_texts)\n",
        "input_tensor = pad_sequences(input_tensor, padding='post')\n",
        "\n",
        "# Tokenizer for French (target)\n",
        "target_tokenizer = Tokenizer(filters='')\n",
        "target_tokenizer.fit_on_texts(target_texts)\n",
        "target_tensor = target_tokenizer.texts_to_sequences(target_texts)\n",
        "target_tensor = pad_sequences(target_tensor, padding='post')\n",
        "\n",
        "# Vocabulary sizes\n",
        "inp_vocab_size = len(input_tokenizer.word_index) + 1\n",
        "targ_vocab_size = len(target_tokenizer.word_index) + 1\n",
        "\n",
        "# Check shapes\n",
        "print(\"Input tensor shape:\", input_tensor.shape)\n",
        "print(\"Target tensor shape:\", target_tensor.shape)\n",
        "print(\"Input vocab size:\", inp_vocab_size)\n",
        "print(\"Target vocab size:\", targ_vocab_size)\n",
        "\n"
      ],
      "metadata": {
        "colab": {
          "base_uri": "https://localhost:8080/"
        },
        "id": "ua-uVD0X5_vC",
        "outputId": "8fb004b3-af2c-4bbb-e08c-49c494bcf94f"
      },
      "execution_count": 21,
      "outputs": [
        {
          "output_type": "stream",
          "name": "stdout",
          "text": [
            "Input tensor shape: (175621, 44)\n",
            "Target tensor shape: (175621, 57)\n",
            "Input vocab size: 25640\n",
            "Target vocab size: 46419\n"
          ]
        }
      ]
    },
    {
      "cell_type": "code",
      "source": [
        "import tensorflow as tf\n",
        "import numpy as np\n",
        "import pandas as pd\n",
        "from sklearn.model_selection import train_test_split\n",
        "from tensorflow.keras.preprocessing.text import Tokenizer\n",
        "from tensorflow.keras.preprocessing.sequence import pad_sequences\n",
        "from nltk.translate.bleu_score import sentence_bleu, SmoothingFunction\n",
        "import matplotlib.pyplot as plt\n",
        "\n",
        "# Load dataset\n",
        "df = pd.read_csv(\"/content/eng_-french.csv\")  # Replace with your CSV path\n",
        "df = df[['English words/sentences', 'French words/sentences']].dropna()\n",
        "\n",
        "# Hyperparameters\n",
        "num_samples = 10000\n",
        "max_vocab_size = 10000\n",
        "embedding_dim = 256\n",
        "units = 128\n",
        "BATCH_SIZE = 64\n",
        "\n",
        "# Prepare data\n",
        "input_texts = df['English words/sentences'].values[:num_samples]\n",
        "target_texts = ['<start> ' + text + ' <end>' for text in df['French words/sentences'].values[:num_samples]]\n",
        "\n",
        "# Tokenizers\n",
        "input_tokenizer = Tokenizer(num_words=max_vocab_size, filters='')\n",
        "input_tokenizer.fit_on_texts(input_texts)\n",
        "input_sequences = input_tokenizer.texts_to_sequences(input_texts)\n",
        "inp_vocab_size = len(input_tokenizer.word_index) + 1\n",
        "\n",
        "target_tokenizer = Tokenizer(num_words=max_vocab_size, filters='')\n",
        "target_tokenizer.fit_on_texts(target_texts)\n",
        "target_sequences = target_tokenizer.texts_to_sequences(target_texts)\n",
        "targ_vocab_size = len(target_tokenizer.word_index) + 1\n",
        "\n",
        "# Padding\n",
        "max_input_len = max([len(seq) for seq in input_sequences])\n",
        "max_target_len = max([len(seq) for seq in target_sequences])\n",
        "\n",
        "encoder_input = pad_sequences(input_sequences, maxlen=max_input_len, padding='post')\n",
        "decoder_input = pad_sequences([seq[:-1] for seq in target_sequences], maxlen=max_target_len-1, padding='post')\n",
        "decoder_target = pad_sequences([seq[1:] for seq in target_sequences], maxlen=max_target_len-1, padding='post')\n",
        "\n",
        "# Split data\n",
        "X_train, X_test, y_train, y_test = train_test_split(\n",
        "    encoder_input, decoder_target, test_size=0.2, random_state=42\n",
        ")\n",
        "dec_input_train, dec_input_test = train_test_split(decoder_input, test_size=0.2, random_state=42)\n",
        "\n",
        "# Encoder\n",
        "class Encoder(tf.keras.Model):\n",
        "    def __init__(self, vocab_size, embedding_dim, enc_units):\n",
        "        super().__init__()\n",
        "        self.embedding = tf.keras.layers.Embedding(vocab_size, embedding_dim)\n",
        "        self.rnn = tf.keras.layers.SimpleRNN(enc_units, return_state=True, return_sequences=True)\n",
        "\n",
        "    def call(self, x):\n",
        "        x = self.embedding(x)\n",
        "        output, state = self.rnn(x)\n",
        "        return output, state\n",
        "\n",
        "# Decoder\n",
        "class Decoder(tf.keras.Model):\n",
        "    def __init__(self, vocab_size, embedding_dim, dec_units):\n",
        "        super().__init__()\n",
        "        self.embedding = tf.keras.layers.Embedding(vocab_size, embedding_dim)\n",
        "        self.rnn = tf.keras.layers.SimpleRNN(dec_units, return_state=True, return_sequences=True)\n",
        "        self.fc = tf.keras.layers.Dense(vocab_size)\n",
        "\n",
        "    def call(self, x, initial_state):\n",
        "        x = self.embedding(x)\n",
        "        x, state = self.rnn(x, initial_state=initial_state)\n",
        "        x = self.fc(x)\n",
        "        return x, state\n",
        "\n",
        "# Loss & Optimizer\n",
        "loss_object = tf.keras.losses.SparseCategoricalCrossentropy(from_logits=True)\n",
        "optimizer = tf.keras.optimizers.Adam()\n",
        "\n",
        "def loss_function(real, pred):\n",
        "    mask = tf.math.not_equal(real, 0)\n",
        "    loss = loss_object(real, pred)\n",
        "    mask = tf.cast(mask, dtype=loss.dtype)\n",
        "    loss *= mask\n",
        "    return tf.reduce_mean(loss)\n",
        "\n",
        "# Build model\n",
        "def train_model_rnn_teacher_forcing(use_teacher_forcing=True, epochs=10):\n",
        "    encoder = Encoder(inp_vocab_size, embedding_dim, units)\n",
        "    decoder = Decoder(targ_vocab_size, embedding_dim, units)\n",
        "\n",
        "    encoder_input_layer = tf.keras.Input(shape=(max_input_len,))\n",
        "    decoder_input_layer = tf.keras.Input(shape=(max_target_len - 1,))\n",
        "\n",
        "    enc_output, enc_state = encoder(encoder_input_layer)\n",
        "\n",
        "    if use_teacher_forcing:\n",
        "        dec_output, _ = decoder(decoder_input_layer, initial_state=enc_state)\n",
        "    else:\n",
        "        # Only using encoder state and first timestep of decoder input\n",
        "        all_outputs = []\n",
        "        input_token = tf.expand_dims(decoder_input_layer[:, 0], 1)\n",
        "        state = enc_state\n",
        "        for t in range(max_target_len - 1):\n",
        "            output, state = decoder(input_token, initial_state=state)\n",
        "            all_outputs.append(output)\n",
        "            input_token = tf.argmax(output, axis=-1)\n",
        "        dec_output = tf.concat(all_outputs, axis=1)\n",
        "\n",
        "    model = tf.keras.Model([encoder_input_layer, decoder_input_layer], dec_output)\n",
        "    model.compile(optimizer=optimizer, loss=loss_function, metrics=['accuracy'])\n",
        "\n",
        "    history = model.fit([X_train, dec_input_train], y_train, epochs=epochs,\n",
        "                        batch_size=BATCH_SIZE, validation_split=0.1)\n",
        "    return model, history\n",
        "\n",
        "# Train with Teacher Forcing\n",
        "print(\"Training with Teacher Forcing...\")\n",
        "rnn_tf_model, rnn_tf_hist = train_model_rnn_teacher_forcing(use_teacher_forcing=True)\n",
        "\n",
        "# Train without Teacher Forcing\n",
        "print(\"Training without Teacher Forcing...\")\n",
        "rnn_ntf_model, rnn_ntf_hist = train_model_rnn_teacher_forcing(use_teacher_forcing=False)\n"
      ],
      "metadata": {
        "colab": {
          "base_uri": "https://localhost:8080/",
          "height": 1000
        },
        "id": "arGqRICj9e3o",
        "outputId": "6997871a-09c9-4857-de4c-f411a275220c"
      },
      "execution_count": 36,
      "outputs": [
        {
          "output_type": "stream",
          "name": "stdout",
          "text": [
            "Training with Teacher Forcing...\n",
            "Epoch 1/10\n",
            "\u001b[1m113/113\u001b[0m \u001b[32m━━━━━━━━━━━━━━━━━━━━\u001b[0m\u001b[37m\u001b[0m \u001b[1m52s\u001b[0m 432ms/step - accuracy: 0.5822 - loss: 1.9726 - val_accuracy: 0.7045 - val_loss: 0.8431\n",
            "Epoch 2/10\n",
            "\u001b[1m113/113\u001b[0m \u001b[32m━━━━━━━━━━━━━━━━━━━━\u001b[0m\u001b[37m\u001b[0m \u001b[1m77s\u001b[0m 387ms/step - accuracy: 0.7123 - loss: 0.8018 - val_accuracy: 0.7189 - val_loss: 0.7655\n",
            "Epoch 3/10\n",
            "\u001b[1m113/113\u001b[0m \u001b[32m━━━━━━━━━━━━━━━━━━━━\u001b[0m\u001b[37m\u001b[0m \u001b[1m43s\u001b[0m 382ms/step - accuracy: 0.7280 - loss: 0.7131 - val_accuracy: 0.7384 - val_loss: 0.7050\n",
            "Epoch 4/10\n",
            "\u001b[1m113/113\u001b[0m \u001b[32m━━━━━━━━━━━━━━━━━━━━\u001b[0m\u001b[37m\u001b[0m \u001b[1m82s\u001b[0m 388ms/step - accuracy: 0.7492 - loss: 0.6424 - val_accuracy: 0.7607 - val_loss: 0.6624\n",
            "Epoch 5/10\n",
            "\u001b[1m113/113\u001b[0m \u001b[32m━━━━━━━━━━━━━━━━━━━━\u001b[0m\u001b[37m\u001b[0m \u001b[1m82s\u001b[0m 382ms/step - accuracy: 0.7701 - loss: 0.5876 - val_accuracy: 0.7750 - val_loss: 0.6329\n",
            "Epoch 6/10\n",
            "\u001b[1m113/113\u001b[0m \u001b[32m━━━━━━━━━━━━━━━━━━━━\u001b[0m\u001b[37m\u001b[0m \u001b[1m43s\u001b[0m 380ms/step - accuracy: 0.7807 - loss: 0.5488 - val_accuracy: 0.7835 - val_loss: 0.6111\n",
            "Epoch 7/10\n",
            "\u001b[1m113/113\u001b[0m \u001b[32m━━━━━━━━━━━━━━━━━━━━\u001b[0m\u001b[37m\u001b[0m \u001b[1m82s\u001b[0m 380ms/step - accuracy: 0.7928 - loss: 0.5075 - val_accuracy: 0.7873 - val_loss: 0.5967\n",
            "Epoch 8/10\n",
            "\u001b[1m113/113\u001b[0m \u001b[32m━━━━━━━━━━━━━━━━━━━━\u001b[0m\u001b[37m\u001b[0m \u001b[1m43s\u001b[0m 380ms/step - accuracy: 0.7998 - loss: 0.4797 - val_accuracy: 0.7931 - val_loss: 0.5845\n",
            "Epoch 9/10\n",
            "\u001b[1m113/113\u001b[0m \u001b[32m━━━━━━━━━━━━━━━━━━━━\u001b[0m\u001b[37m\u001b[0m \u001b[1m82s\u001b[0m 379ms/step - accuracy: 0.8069 - loss: 0.4434 - val_accuracy: 0.7930 - val_loss: 0.5785\n",
            "Epoch 10/10\n",
            "\u001b[1m113/113\u001b[0m \u001b[32m━━━━━━━━━━━━━━━━━━━━\u001b[0m\u001b[37m\u001b[0m \u001b[1m82s\u001b[0m 379ms/step - accuracy: 0.8104 - loss: 0.4193 - val_accuracy: 0.7968 - val_loss: 0.5711\n",
            "Training without Teacher Forcing...\n"
          ]
        },
        {
          "output_type": "error",
          "ename": "ValueError",
          "evalue": "A KerasTensor cannot be used as input to a TensorFlow function. A KerasTensor is a symbolic placeholder for a shape and dtype, used when constructing Keras Functional models or Keras Functions. You can only use it as input to a Keras layer or a Keras operation (from the namespaces `keras.layers` and `keras.operations`). You are likely doing something like:\n\n```\nx = Input(...)\n...\ntf_fn(x)  # Invalid.\n```\n\nWhat you should do instead is wrap `tf_fn` in a layer:\n\n```\nclass MyLayer(Layer):\n    def call(self, x):\n        return tf_fn(x)\n\nx = MyLayer()(x)\n```\n",
          "traceback": [
            "\u001b[0;31m---------------------------------------------------------------------------\u001b[0m",
            "\u001b[0;31mValueError\u001b[0m                                Traceback (most recent call last)",
            "\u001b[0;32m<ipython-input-36-85cd77d130dd>\u001b[0m in \u001b[0;36m<cell line: 0>\u001b[0;34m()\u001b[0m\n\u001b[1;32m    121\u001b[0m \u001b[0;31m# Train without Teacher Forcing\u001b[0m\u001b[0;34m\u001b[0m\u001b[0;34m\u001b[0m\u001b[0m\n\u001b[1;32m    122\u001b[0m \u001b[0mprint\u001b[0m\u001b[0;34m(\u001b[0m\u001b[0;34m\"Training without Teacher Forcing...\"\u001b[0m\u001b[0;34m)\u001b[0m\u001b[0;34m\u001b[0m\u001b[0;34m\u001b[0m\u001b[0m\n\u001b[0;32m--> 123\u001b[0;31m \u001b[0mrnn_ntf_model\u001b[0m\u001b[0;34m,\u001b[0m \u001b[0mrnn_ntf_hist\u001b[0m \u001b[0;34m=\u001b[0m \u001b[0mtrain_model_rnn_teacher_forcing\u001b[0m\u001b[0;34m(\u001b[0m\u001b[0muse_teacher_forcing\u001b[0m\u001b[0;34m=\u001b[0m\u001b[0;32mFalse\u001b[0m\u001b[0;34m)\u001b[0m\u001b[0;34m\u001b[0m\u001b[0;34m\u001b[0m\u001b[0m\n\u001b[0m",
            "\u001b[0;32m<ipython-input-36-85cd77d130dd>\u001b[0m in \u001b[0;36mtrain_model_rnn_teacher_forcing\u001b[0;34m(use_teacher_forcing, epochs)\u001b[0m\n\u001b[1;32m    100\u001b[0m         \u001b[0;31m# Only using encoder state and first timestep of decoder input\u001b[0m\u001b[0;34m\u001b[0m\u001b[0;34m\u001b[0m\u001b[0m\n\u001b[1;32m    101\u001b[0m         \u001b[0mall_outputs\u001b[0m \u001b[0;34m=\u001b[0m \u001b[0;34m[\u001b[0m\u001b[0;34m]\u001b[0m\u001b[0;34m\u001b[0m\u001b[0;34m\u001b[0m\u001b[0m\n\u001b[0;32m--> 102\u001b[0;31m         \u001b[0minput_token\u001b[0m \u001b[0;34m=\u001b[0m \u001b[0mtf\u001b[0m\u001b[0;34m.\u001b[0m\u001b[0mexpand_dims\u001b[0m\u001b[0;34m(\u001b[0m\u001b[0mdecoder_input_layer\u001b[0m\u001b[0;34m[\u001b[0m\u001b[0;34m:\u001b[0m\u001b[0;34m,\u001b[0m \u001b[0;36m0\u001b[0m\u001b[0;34m]\u001b[0m\u001b[0;34m,\u001b[0m \u001b[0;36m1\u001b[0m\u001b[0;34m)\u001b[0m\u001b[0;34m\u001b[0m\u001b[0;34m\u001b[0m\u001b[0m\n\u001b[0m\u001b[1;32m    103\u001b[0m         \u001b[0mstate\u001b[0m \u001b[0;34m=\u001b[0m \u001b[0menc_state\u001b[0m\u001b[0;34m\u001b[0m\u001b[0;34m\u001b[0m\u001b[0m\n\u001b[1;32m    104\u001b[0m         \u001b[0;32mfor\u001b[0m \u001b[0mt\u001b[0m \u001b[0;32min\u001b[0m \u001b[0mrange\u001b[0m\u001b[0;34m(\u001b[0m\u001b[0mmax_target_len\u001b[0m \u001b[0;34m-\u001b[0m \u001b[0;36m1\u001b[0m\u001b[0;34m)\u001b[0m\u001b[0;34m:\u001b[0m\u001b[0;34m\u001b[0m\u001b[0;34m\u001b[0m\u001b[0m\n",
            "\u001b[0;32m/usr/local/lib/python3.11/dist-packages/tensorflow/python/ops/weak_tensor_ops.py\u001b[0m in \u001b[0;36mwrapper\u001b[0;34m(*args, **kwargs)\u001b[0m\n\u001b[1;32m     86\u001b[0m   \u001b[0;32mdef\u001b[0m \u001b[0mwrapper\u001b[0m\u001b[0;34m(\u001b[0m\u001b[0;34m*\u001b[0m\u001b[0margs\u001b[0m\u001b[0;34m,\u001b[0m \u001b[0;34m**\u001b[0m\u001b[0mkwargs\u001b[0m\u001b[0;34m)\u001b[0m\u001b[0;34m:\u001b[0m\u001b[0;34m\u001b[0m\u001b[0;34m\u001b[0m\u001b[0m\n\u001b[1;32m     87\u001b[0m     \u001b[0;32mif\u001b[0m \u001b[0;32mnot\u001b[0m \u001b[0mops\u001b[0m\u001b[0;34m.\u001b[0m\u001b[0mis_auto_dtype_conversion_enabled\u001b[0m\u001b[0;34m(\u001b[0m\u001b[0;34m)\u001b[0m\u001b[0;34m:\u001b[0m\u001b[0;34m\u001b[0m\u001b[0;34m\u001b[0m\u001b[0m\n\u001b[0;32m---> 88\u001b[0;31m       \u001b[0;32mreturn\u001b[0m \u001b[0mop\u001b[0m\u001b[0;34m(\u001b[0m\u001b[0;34m*\u001b[0m\u001b[0margs\u001b[0m\u001b[0;34m,\u001b[0m \u001b[0;34m**\u001b[0m\u001b[0mkwargs\u001b[0m\u001b[0;34m)\u001b[0m\u001b[0;34m\u001b[0m\u001b[0;34m\u001b[0m\u001b[0m\n\u001b[0m\u001b[1;32m     89\u001b[0m     \u001b[0mbound_arguments\u001b[0m \u001b[0;34m=\u001b[0m \u001b[0msignature\u001b[0m\u001b[0;34m.\u001b[0m\u001b[0mbind\u001b[0m\u001b[0;34m(\u001b[0m\u001b[0;34m*\u001b[0m\u001b[0margs\u001b[0m\u001b[0;34m,\u001b[0m \u001b[0;34m**\u001b[0m\u001b[0mkwargs\u001b[0m\u001b[0;34m)\u001b[0m\u001b[0;34m\u001b[0m\u001b[0;34m\u001b[0m\u001b[0m\n\u001b[1;32m     90\u001b[0m     \u001b[0mbound_arguments\u001b[0m\u001b[0;34m.\u001b[0m\u001b[0mapply_defaults\u001b[0m\u001b[0;34m(\u001b[0m\u001b[0;34m)\u001b[0m\u001b[0;34m\u001b[0m\u001b[0;34m\u001b[0m\u001b[0m\n",
            "\u001b[0;32m/usr/local/lib/python3.11/dist-packages/tensorflow/python/util/traceback_utils.py\u001b[0m in \u001b[0;36merror_handler\u001b[0;34m(*args, **kwargs)\u001b[0m\n\u001b[1;32m    151\u001b[0m     \u001b[0;32mexcept\u001b[0m \u001b[0mException\u001b[0m \u001b[0;32mas\u001b[0m \u001b[0me\u001b[0m\u001b[0;34m:\u001b[0m\u001b[0;34m\u001b[0m\u001b[0;34m\u001b[0m\u001b[0m\n\u001b[1;32m    152\u001b[0m       \u001b[0mfiltered_tb\u001b[0m \u001b[0;34m=\u001b[0m \u001b[0m_process_traceback_frames\u001b[0m\u001b[0;34m(\u001b[0m\u001b[0me\u001b[0m\u001b[0;34m.\u001b[0m\u001b[0m__traceback__\u001b[0m\u001b[0;34m)\u001b[0m\u001b[0;34m\u001b[0m\u001b[0;34m\u001b[0m\u001b[0m\n\u001b[0;32m--> 153\u001b[0;31m       \u001b[0;32mraise\u001b[0m \u001b[0me\u001b[0m\u001b[0;34m.\u001b[0m\u001b[0mwith_traceback\u001b[0m\u001b[0;34m(\u001b[0m\u001b[0mfiltered_tb\u001b[0m\u001b[0;34m)\u001b[0m \u001b[0;32mfrom\u001b[0m \u001b[0;32mNone\u001b[0m\u001b[0;34m\u001b[0m\u001b[0;34m\u001b[0m\u001b[0m\n\u001b[0m\u001b[1;32m    154\u001b[0m     \u001b[0;32mfinally\u001b[0m\u001b[0;34m:\u001b[0m\u001b[0;34m\u001b[0m\u001b[0;34m\u001b[0m\u001b[0m\n\u001b[1;32m    155\u001b[0m       \u001b[0;32mdel\u001b[0m \u001b[0mfiltered_tb\u001b[0m\u001b[0;34m\u001b[0m\u001b[0;34m\u001b[0m\u001b[0m\n",
            "\u001b[0;32m/usr/local/lib/python3.11/dist-packages/keras/src/backend/common/keras_tensor.py\u001b[0m in \u001b[0;36m__tf_tensor__\u001b[0;34m(self, dtype, name)\u001b[0m\n\u001b[1;32m    136\u001b[0m \u001b[0;34m\u001b[0m\u001b[0m\n\u001b[1;32m    137\u001b[0m     \u001b[0;32mdef\u001b[0m \u001b[0m__tf_tensor__\u001b[0m\u001b[0;34m(\u001b[0m\u001b[0mself\u001b[0m\u001b[0;34m,\u001b[0m \u001b[0mdtype\u001b[0m\u001b[0;34m=\u001b[0m\u001b[0;32mNone\u001b[0m\u001b[0;34m,\u001b[0m \u001b[0mname\u001b[0m\u001b[0;34m=\u001b[0m\u001b[0;32mNone\u001b[0m\u001b[0;34m)\u001b[0m\u001b[0;34m:\u001b[0m\u001b[0;34m\u001b[0m\u001b[0;34m\u001b[0m\u001b[0m\n\u001b[0;32m--> 138\u001b[0;31m         raise ValueError(\n\u001b[0m\u001b[1;32m    139\u001b[0m             \u001b[0;34m\"A KerasTensor cannot be used as input to a TensorFlow function. \"\u001b[0m\u001b[0;34m\u001b[0m\u001b[0;34m\u001b[0m\u001b[0m\n\u001b[1;32m    140\u001b[0m             \u001b[0;34m\"A KerasTensor is a symbolic placeholder for a shape and dtype, \"\u001b[0m\u001b[0;34m\u001b[0m\u001b[0;34m\u001b[0m\u001b[0m\n",
            "\u001b[0;31mValueError\u001b[0m: A KerasTensor cannot be used as input to a TensorFlow function. A KerasTensor is a symbolic placeholder for a shape and dtype, used when constructing Keras Functional models or Keras Functions. You can only use it as input to a Keras layer or a Keras operation (from the namespaces `keras.layers` and `keras.operations`). You are likely doing something like:\n\n```\nx = Input(...)\n...\ntf_fn(x)  # Invalid.\n```\n\nWhat you should do instead is wrap `tf_fn` in a layer:\n\n```\nclass MyLayer(Layer):\n    def call(self, x):\n        return tf_fn(x)\n\nx = MyLayer()(x)\n```\n"
          ]
        }
      ]
    },
    {
      "cell_type": "code",
      "source": [
        "import matplotlib.pyplot as plt\n",
        "\n",
        "def plot_history(tf_hist, ntf_hist):\n",
        "    plt.figure(figsize=(14, 6))\n",
        "\n",
        "    # Plot Accuracy\n",
        "    plt.subplot(1, 2, 1)\n",
        "    plt.plot(tf_hist.history['accuracy'], label='TF Train Accuracy')\n",
        "    plt.plot(tf_hist.history['val_accuracy'], label='TF Val Accuracy')\n",
        "    plt.plot(ntf_hist.history['accuracy'], label='NTF Train Accuracy')\n",
        "    plt.plot(ntf_hist.history['val_accuracy'], label='NTF Val Accuracy')\n",
        "    plt.title('Training and Validation Accuracy')\n",
        "    plt.xlabel('Epoch')\n",
        "    plt.ylabel('Accuracy')\n",
        "    plt.legend()\n",
        "\n",
        "    # Plot Loss\n",
        "    plt.subplot(1, 2, 2)\n",
        "    plt.plot(tf_hist.history['loss'], label='TF Train Loss')\n",
        "    plt.plot(tf_hist.history['val_loss'], label='TF Val Loss')\n",
        "    plt.plot(ntf_hist.history['loss'], label='NTF Train Loss')\n",
        "    plt.plot(ntf_hist.history['val_loss'], label='NTF Val Loss')\n",
        "    plt.title('Training and Validation Loss')\n",
        "    plt.xlabel('Epoch')\n",
        "    plt.ylabel('Loss')\n",
        "    plt.legend()\n",
        "\n",
        "    plt.tight_layout()\n",
        "    plt.show()\n",
        "\n",
        "# Call the plotting function\n",
        "plot_history(rnn_tf_hist, rnn_ntf_hist)\n"
      ],
      "metadata": {
        "id": "tcoySkSK-r8o"
      },
      "execution_count": null,
      "outputs": []
    }
  ]
}