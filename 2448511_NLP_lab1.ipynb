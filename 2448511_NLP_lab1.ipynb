{
  "nbformat": 4,
  "nbformat_minor": 0,
  "metadata": {
    "colab": {
      "provenance": []
    },
    "kernelspec": {
      "name": "python3",
      "display_name": "Python 3"
    },
    "language_info": {
      "name": "python"
    }
  },
  "cells": [
    {
      "cell_type": "code",
      "execution_count": 3,
      "metadata": {
        "id": "Nw0YeP_A0Z8r"
      },
      "outputs": [],
      "source": [
        "para = \"\"\"Behavioral science explores how people think, feel,\n",
        " and act in different situations—often in ways they don't even realize! 🧠💡\n",
        " Understanding cognitive biases, decision-making, and emotional responses helps in designing better policies,\n",
        "  improving mental health interventions, and even predicting market trends 📊📉.\n",
        "  But, wait—why do we sometimes make irrational choices despite knowing better? 🤔😕\n",
        "  It’s because our brains rely on heuristics (mental shortcuts) that can lead to errors in judgment! So, behavioral science isn’t just about observation;\n",
        "  it’s about applying insights to change behavior for the better—ethically and effectively! 🚀✨\"\"\""
      ]
    },
    {
      "cell_type": "code",
      "source": [
        "import re"
      ],
      "metadata": {
        "id": "FuHBwctC3kGa"
      },
      "execution_count": null,
      "outputs": []
    },
    {
      "cell_type": "markdown",
      "source": [
        "tokenization is the process of splitting raw data into smaller chunks of words or sentences(tokens).\n",
        "why is it needed - to intrepret the meaning of the text, or more insight.\n",
        "parameters to choose tokenization texhnique depends on - language or purpose of modeling."
      ],
      "metadata": {
        "id": "t_aaJiYhpw-d"
      }
    },
    {
      "cell_type": "markdown",
      "source": [
        "Word Tokenization"
      ],
      "metadata": {
        "id": "QTGFeeKe2ZVs"
      }
    },
    {
      "cell_type": "code",
      "source": [
        "import nltk\n",
        "nltk.download('punkt_tab')"
      ],
      "metadata": {
        "colab": {
          "base_uri": "https://localhost:8080/"
        },
        "id": "bGhiDqdk5F3F",
        "outputId": "f6f8ef31-535a-40cc-e94c-8ccd7096d3ba"
      },
      "execution_count": null,
      "outputs": [
        {
          "output_type": "stream",
          "name": "stderr",
          "text": [
            "[nltk_data] Downloading package punkt_tab to /root/nltk_data...\n",
            "[nltk_data]   Unzipping tokenizers/punkt_tab.zip.\n"
          ]
        },
        {
          "output_type": "execute_result",
          "data": {
            "text/plain": [
              "True"
            ]
          },
          "metadata": {},
          "execution_count": 11
        }
      ]
    },
    {
      "cell_type": "code",
      "source": [
        "from nltk.tokenize import word_tokenize, sent_tokenize, wordpunct_tokenize, RegexpTokenizer, TreebankWordTokenizer"
      ],
      "metadata": {
        "id": "rLH8A35h2eUY"
      },
      "execution_count": null,
      "outputs": []
    },
    {
      "cell_type": "code",
      "source": [],
      "metadata": {
        "id": "F8iK8viR5Z84"
      },
      "execution_count": null,
      "outputs": []
    },
    {
      "cell_type": "markdown",
      "source": [
        "using simple RegEx methods that is split(splitting based on whitespaces) and findall() to find a certain pattern."
      ],
      "metadata": {
        "id": "nxyw1i98rHyn"
      }
    },
    {
      "cell_type": "code",
      "source": [
        "#split using re\n",
        "word = \"\\s+\"\n",
        "print(re.split(word, para))"
      ],
      "metadata": {
        "colab": {
          "base_uri": "https://localhost:8080/"
        },
        "id": "6pm3Hw6R2eid",
        "outputId": "964c9a13-9a81-4f38-8893-f79dcdddb3ce"
      },
      "execution_count": null,
      "outputs": [
        {
          "output_type": "stream",
          "name": "stdout",
          "text": [
            "['Behavioral', 'science', 'explores', 'how', 'people', 'think,', 'feel,', 'and', 'act', 'in', 'different', 'situations—often', 'in', 'ways', 'they', \"don't\", 'even', 'realize!', '🧠💡', 'Understanding', 'cognitive', 'biases,', 'decision-making,', 'and', 'emotional', 'responses', 'helps', 'in', 'designing', 'better', 'policies,', 'improving', 'mental', 'health', 'interventions,', 'and', 'even', 'predicting', 'market', 'trends', '📊📉.', 'But,', 'wait—why', 'do', 'we', 'sometimes', 'make', 'irrational', 'choices', 'despite', 'knowing', 'better?', '🤔😕', 'It’s', 'because', 'our', 'brains', 'rely', 'on', 'heuristics', '(mental', 'shortcuts)', 'that', 'can', 'lead', 'to', 'errors', 'in', 'judgment!', 'So,', 'behavioral', 'science', 'isn’t', 'just', 'about', 'observation;', 'it’s', 'about', 'applying', 'insights', 'to', 'change', 'behavior', 'for', 'the', 'better—ethically', 'and', 'effectively!', '🚀✨']\n"
          ]
        }
      ]
    },
    {
      "cell_type": "code",
      "source": [
        "#works the same\n",
        "word = \"\\w+\"\n",
        "print(re.findall(word, para))"
      ],
      "metadata": {
        "colab": {
          "base_uri": "https://localhost:8080/"
        },
        "id": "7MJB4fjP2el9",
        "outputId": "d0a990f0-2b32-424d-f17c-3b0c69567f0c"
      },
      "execution_count": null,
      "outputs": [
        {
          "output_type": "stream",
          "name": "stdout",
          "text": [
            "['Behavioral', 'science', 'explores', 'how', 'people', 'think', 'feel', 'and', 'act', 'in', 'different', 'situations', 'often', 'in', 'ways', 'they', 'don', 't', 'even', 'realize', 'Understanding', 'cognitive', 'biases', 'decision', 'making', 'and', 'emotional', 'responses', 'helps', 'in', 'designing', 'better', 'policies', 'improving', 'mental', 'health', 'interventions', 'and', 'even', 'predicting', 'market', 'trends', 'But', 'wait', 'why', 'do', 'we', 'sometimes', 'make', 'irrational', 'choices', 'despite', 'knowing', 'better', 'It', 's', 'because', 'our', 'brains', 'rely', 'on', 'heuristics', 'mental', 'shortcuts', 'that', 'can', 'lead', 'to', 'errors', 'in', 'judgment', 'So', 'behavioral', 'science', 'isn', 't', 'just', 'about', 'observation', 'it', 's', 'about', 'applying', 'insights', 'to', 'change', 'behavior', 'for', 'the', 'better', 'ethically', 'and', 'effectively']\n"
          ]
        }
      ]
    },
    {
      "cell_type": "markdown",
      "source": [
        "sent_tokenier from nltk, detects sentence boundaries like \".\"(punctiuations or rules, capitalization), leaves out exceptions like Dr.\""
      ],
      "metadata": {
        "id": "Msb4iHDMrjmn"
      }
    },
    {
      "cell_type": "code",
      "source": [
        "sent_tokenize(para)"
      ],
      "metadata": {
        "colab": {
          "base_uri": "https://localhost:8080/"
        },
        "id": "EQoVu9fx2epT",
        "outputId": "391543a9-fd68-43d5-eebb-f9f485eb24cc"
      },
      "execution_count": null,
      "outputs": [
        {
          "output_type": "execute_result",
          "data": {
            "text/plain": [
              "[\"Behavioral science explores how people think, feel,\\n and act in different situations—often in ways they don't even realize!\",\n",
              " '🧠💡 \\n Understanding cognitive biases, decision-making, and emotional responses helps in designing better policies,\\n  improving mental health interventions, and even predicting market trends 📊📉.',\n",
              " 'But, wait—why do we sometimes make irrational choices despite knowing better?',\n",
              " '🤔😕 \\n  It’s because our brains rely on heuristics (mental shortcuts) that can lead to errors in judgment!',\n",
              " 'So, behavioral science isn’t just about observation;\\n   it’s about applying insights to change behavior for the better—ethically and effectively!',\n",
              " '🚀✨']"
            ]
          },
          "metadata": {},
          "execution_count": 13
        }
      ]
    },
    {
      "cell_type": "code",
      "source": [
        "word_tokenize(para)"
      ],
      "metadata": {
        "colab": {
          "base_uri": "https://localhost:8080/"
        },
        "id": "lwlENUBY5Oke",
        "outputId": "8f7a147b-2661-4e88-eee4-bd57f8e6c5ff"
      },
      "execution_count": null,
      "outputs": [
        {
          "output_type": "execute_result",
          "data": {
            "text/plain": [
              "['Behavioral',\n",
              " 'science',\n",
              " 'explores',\n",
              " 'how',\n",
              " 'people',\n",
              " 'think',\n",
              " ',',\n",
              " 'feel',\n",
              " ',',\n",
              " 'and',\n",
              " 'act',\n",
              " 'in',\n",
              " 'different',\n",
              " 'situations—often',\n",
              " 'in',\n",
              " 'ways',\n",
              " 'they',\n",
              " 'do',\n",
              " \"n't\",\n",
              " 'even',\n",
              " 'realize',\n",
              " '!',\n",
              " '🧠💡',\n",
              " 'Understanding',\n",
              " 'cognitive',\n",
              " 'biases',\n",
              " ',',\n",
              " 'decision-making',\n",
              " ',',\n",
              " 'and',\n",
              " 'emotional',\n",
              " 'responses',\n",
              " 'helps',\n",
              " 'in',\n",
              " 'designing',\n",
              " 'better',\n",
              " 'policies',\n",
              " ',',\n",
              " 'improving',\n",
              " 'mental',\n",
              " 'health',\n",
              " 'interventions',\n",
              " ',',\n",
              " 'and',\n",
              " 'even',\n",
              " 'predicting',\n",
              " 'market',\n",
              " 'trends',\n",
              " '📊📉',\n",
              " '.',\n",
              " 'But',\n",
              " ',',\n",
              " 'wait—why',\n",
              " 'do',\n",
              " 'we',\n",
              " 'sometimes',\n",
              " 'make',\n",
              " 'irrational',\n",
              " 'choices',\n",
              " 'despite',\n",
              " 'knowing',\n",
              " 'better',\n",
              " '?',\n",
              " '🤔😕',\n",
              " 'It',\n",
              " '’',\n",
              " 's',\n",
              " 'because',\n",
              " 'our',\n",
              " 'brains',\n",
              " 'rely',\n",
              " 'on',\n",
              " 'heuristics',\n",
              " '(',\n",
              " 'mental',\n",
              " 'shortcuts',\n",
              " ')',\n",
              " 'that',\n",
              " 'can',\n",
              " 'lead',\n",
              " 'to',\n",
              " 'errors',\n",
              " 'in',\n",
              " 'judgment',\n",
              " '!',\n",
              " 'So',\n",
              " ',',\n",
              " 'behavioral',\n",
              " 'science',\n",
              " 'isn',\n",
              " '’',\n",
              " 't',\n",
              " 'just',\n",
              " 'about',\n",
              " 'observation',\n",
              " ';',\n",
              " 'it',\n",
              " '’',\n",
              " 's',\n",
              " 'about',\n",
              " 'applying',\n",
              " 'insights',\n",
              " 'to',\n",
              " 'change',\n",
              " 'behavior',\n",
              " 'for',\n",
              " 'the',\n",
              " 'better—ethically',\n",
              " 'and',\n",
              " 'effectively',\n",
              " '!',\n",
              " '🚀✨']"
            ]
          },
          "metadata": {},
          "execution_count": 14
        }
      ]
    },
    {
      "cell_type": "markdown",
      "source": [
        "wordpunct_tokenizer - separates words and punctuations separately. non word characters,"
      ],
      "metadata": {
        "id": "bgoTiqeNty3e"
      }
    },
    {
      "cell_type": "code",
      "source": [
        "#punctuation based tokenizer\n",
        "wordpunct_tokenize(para)"
      ],
      "metadata": {
        "colab": {
          "base_uri": "https://localhost:8080/"
        },
        "id": "DbrlE0_C5bhn",
        "outputId": "1309438f-b9ef-4065-8d4d-6467ca7ede0e"
      },
      "execution_count": null,
      "outputs": [
        {
          "output_type": "execute_result",
          "data": {
            "text/plain": [
              "['Behavioral',\n",
              " 'science',\n",
              " 'explores',\n",
              " 'how',\n",
              " 'people',\n",
              " 'think',\n",
              " ',',\n",
              " 'feel',\n",
              " ',',\n",
              " 'and',\n",
              " 'act',\n",
              " 'in',\n",
              " 'different',\n",
              " 'situations',\n",
              " '—',\n",
              " 'often',\n",
              " 'in',\n",
              " 'ways',\n",
              " 'they',\n",
              " 'don',\n",
              " \"'\",\n",
              " 't',\n",
              " 'even',\n",
              " 'realize',\n",
              " '!',\n",
              " '🧠💡',\n",
              " 'Understanding',\n",
              " 'cognitive',\n",
              " 'biases',\n",
              " ',',\n",
              " 'decision',\n",
              " '-',\n",
              " 'making',\n",
              " ',',\n",
              " 'and',\n",
              " 'emotional',\n",
              " 'responses',\n",
              " 'helps',\n",
              " 'in',\n",
              " 'designing',\n",
              " 'better',\n",
              " 'policies',\n",
              " ',',\n",
              " 'improving',\n",
              " 'mental',\n",
              " 'health',\n",
              " 'interventions',\n",
              " ',',\n",
              " 'and',\n",
              " 'even',\n",
              " 'predicting',\n",
              " 'market',\n",
              " 'trends',\n",
              " '📊📉.',\n",
              " 'But',\n",
              " ',',\n",
              " 'wait',\n",
              " '—',\n",
              " 'why',\n",
              " 'do',\n",
              " 'we',\n",
              " 'sometimes',\n",
              " 'make',\n",
              " 'irrational',\n",
              " 'choices',\n",
              " 'despite',\n",
              " 'knowing',\n",
              " 'better',\n",
              " '?',\n",
              " '🤔😕',\n",
              " 'It',\n",
              " '’',\n",
              " 's',\n",
              " 'because',\n",
              " 'our',\n",
              " 'brains',\n",
              " 'rely',\n",
              " 'on',\n",
              " 'heuristics',\n",
              " '(',\n",
              " 'mental',\n",
              " 'shortcuts',\n",
              " ')',\n",
              " 'that',\n",
              " 'can',\n",
              " 'lead',\n",
              " 'to',\n",
              " 'errors',\n",
              " 'in',\n",
              " 'judgment',\n",
              " '!',\n",
              " 'So',\n",
              " ',',\n",
              " 'behavioral',\n",
              " 'science',\n",
              " 'isn',\n",
              " '’',\n",
              " 't',\n",
              " 'just',\n",
              " 'about',\n",
              " 'observation',\n",
              " ';',\n",
              " 'it',\n",
              " '’',\n",
              " 's',\n",
              " 'about',\n",
              " 'applying',\n",
              " 'insights',\n",
              " 'to',\n",
              " 'change',\n",
              " 'behavior',\n",
              " 'for',\n",
              " 'the',\n",
              " 'better',\n",
              " '—',\n",
              " 'ethically',\n",
              " 'and',\n",
              " 'effectively',\n",
              " '!',\n",
              " '🚀✨']"
            ]
          },
          "metadata": {},
          "execution_count": 16
        }
      ]
    },
    {
      "cell_type": "markdown",
      "source": [
        "uses Penn Tree bank tokenizer, stradard for linguistic analysis, does not split common abbreviations."
      ],
      "metadata": {
        "id": "nMLHlQjJuzvR"
      }
    },
    {
      "cell_type": "code",
      "source": [
        "#tree bank word tokenizer\n",
        "TreebankWordTokenizer().tokenize(para)"
      ],
      "metadata": {
        "colab": {
          "base_uri": "https://localhost:8080/"
        },
        "id": "Mq-VvzTP6QS-",
        "outputId": "aa72e264-9cfd-4a19-a4c5-27523ebf12e7"
      },
      "execution_count": null,
      "outputs": [
        {
          "output_type": "execute_result",
          "data": {
            "text/plain": [
              "['Behavioral',\n",
              " 'science',\n",
              " 'explores',\n",
              " 'how',\n",
              " 'people',\n",
              " 'think',\n",
              " ',',\n",
              " 'feel',\n",
              " ',',\n",
              " 'and',\n",
              " 'act',\n",
              " 'in',\n",
              " 'different',\n",
              " 'situations—often',\n",
              " 'in',\n",
              " 'ways',\n",
              " 'they',\n",
              " 'do',\n",
              " \"n't\",\n",
              " 'even',\n",
              " 'realize',\n",
              " '!',\n",
              " '🧠💡',\n",
              " 'Understanding',\n",
              " 'cognitive',\n",
              " 'biases',\n",
              " ',',\n",
              " 'decision-making',\n",
              " ',',\n",
              " 'and',\n",
              " 'emotional',\n",
              " 'responses',\n",
              " 'helps',\n",
              " 'in',\n",
              " 'designing',\n",
              " 'better',\n",
              " 'policies',\n",
              " ',',\n",
              " 'improving',\n",
              " 'mental',\n",
              " 'health',\n",
              " 'interventions',\n",
              " ',',\n",
              " 'and',\n",
              " 'even',\n",
              " 'predicting',\n",
              " 'market',\n",
              " 'trends',\n",
              " '📊📉.',\n",
              " 'But',\n",
              " ',',\n",
              " 'wait—why',\n",
              " 'do',\n",
              " 'we',\n",
              " 'sometimes',\n",
              " 'make',\n",
              " 'irrational',\n",
              " 'choices',\n",
              " 'despite',\n",
              " 'knowing',\n",
              " 'better',\n",
              " '?',\n",
              " '🤔😕',\n",
              " 'It’s',\n",
              " 'because',\n",
              " 'our',\n",
              " 'brains',\n",
              " 'rely',\n",
              " 'on',\n",
              " 'heuristics',\n",
              " '(',\n",
              " 'mental',\n",
              " 'shortcuts',\n",
              " ')',\n",
              " 'that',\n",
              " 'can',\n",
              " 'lead',\n",
              " 'to',\n",
              " 'errors',\n",
              " 'in',\n",
              " 'judgment',\n",
              " '!',\n",
              " 'So',\n",
              " ',',\n",
              " 'behavioral',\n",
              " 'science',\n",
              " 'isn’t',\n",
              " 'just',\n",
              " 'about',\n",
              " 'observation',\n",
              " ';',\n",
              " 'it’s',\n",
              " 'about',\n",
              " 'applying',\n",
              " 'insights',\n",
              " 'to',\n",
              " 'change',\n",
              " 'behavior',\n",
              " 'for',\n",
              " 'the',\n",
              " 'better—ethically',\n",
              " 'and',\n",
              " 'effectively',\n",
              " '!',\n",
              " '🚀✨']"
            ]
          },
          "metadata": {},
          "execution_count": 17
        }
      ]
    },
    {
      "cell_type": "markdown",
      "source": [
        "designed for social media text , for informal language, emoji, hashtags..\n",
        "(contractions common for all tokenizers)"
      ],
      "metadata": {
        "id": "bNtderiuveL_"
      }
    },
    {
      "cell_type": "code",
      "source": [
        "#tweet tokenizer\n",
        "tokenizer = RegexpTokenizer(r'\\w+')\n",
        "tokenizer.tokenize(para)"
      ],
      "metadata": {
        "colab": {
          "base_uri": "https://localhost:8080/"
        },
        "id": "jkSXFocE6cjs",
        "outputId": "b1ac46ae-0c82-4d85-afa9-a3082898561d"
      },
      "execution_count": null,
      "outputs": [
        {
          "output_type": "execute_result",
          "data": {
            "text/plain": [
              "['Behavioral',\n",
              " 'science',\n",
              " 'explores',\n",
              " 'how',\n",
              " 'people',\n",
              " 'think',\n",
              " 'feel',\n",
              " 'and',\n",
              " 'act',\n",
              " 'in',\n",
              " 'different',\n",
              " 'situations',\n",
              " 'often',\n",
              " 'in',\n",
              " 'ways',\n",
              " 'they',\n",
              " 'don',\n",
              " 't',\n",
              " 'even',\n",
              " 'realize',\n",
              " 'Understanding',\n",
              " 'cognitive',\n",
              " 'biases',\n",
              " 'decision',\n",
              " 'making',\n",
              " 'and',\n",
              " 'emotional',\n",
              " 'responses',\n",
              " 'helps',\n",
              " 'in',\n",
              " 'designing',\n",
              " 'better',\n",
              " 'policies',\n",
              " 'improving',\n",
              " 'mental',\n",
              " 'health',\n",
              " 'interventions',\n",
              " 'and',\n",
              " 'even',\n",
              " 'predicting',\n",
              " 'market',\n",
              " 'trends',\n",
              " 'But',\n",
              " 'wait',\n",
              " 'why',\n",
              " 'do',\n",
              " 'we',\n",
              " 'sometimes',\n",
              " 'make',\n",
              " 'irrational',\n",
              " 'choices',\n",
              " 'despite',\n",
              " 'knowing',\n",
              " 'better',\n",
              " 'It',\n",
              " 's',\n",
              " 'because',\n",
              " 'our',\n",
              " 'brains',\n",
              " 'rely',\n",
              " 'on',\n",
              " 'heuristics',\n",
              " 'mental',\n",
              " 'shortcuts',\n",
              " 'that',\n",
              " 'can',\n",
              " 'lead',\n",
              " 'to',\n",
              " 'errors',\n",
              " 'in',\n",
              " 'judgment',\n",
              " 'So',\n",
              " 'behavioral',\n",
              " 'science',\n",
              " 'isn',\n",
              " 't',\n",
              " 'just',\n",
              " 'about',\n",
              " 'observation',\n",
              " 'it',\n",
              " 's',\n",
              " 'about',\n",
              " 'applying',\n",
              " 'insights',\n",
              " 'to',\n",
              " 'change',\n",
              " 'behavior',\n",
              " 'for',\n",
              " 'the',\n",
              " 'better',\n",
              " 'ethically',\n",
              " 'and',\n",
              " 'effectively']"
            ]
          },
          "metadata": {},
          "execution_count": 18
        }
      ]
    },
    {
      "cell_type": "markdown",
      "source": [
        "RegEx all allows us to customize out patterns"
      ],
      "metadata": {
        "id": "cj0ZLkzzwJke"
      }
    },
    {
      "cell_type": "code",
      "source": [
        "#regular expression tokenizer\n",
        "tokenizer = RegexpTokenizer(r'\\w+')\n",
        "tokenizer.tokenize(para)\n"
      ],
      "metadata": {
        "colab": {
          "base_uri": "https://localhost:8080/"
        },
        "id": "x20-g5va6iF3",
        "outputId": "0589c431-bd27-4e76-8d64-0d260eea50e7"
      },
      "execution_count": null,
      "outputs": [
        {
          "output_type": "execute_result",
          "data": {
            "text/plain": [
              "['Behavioral',\n",
              " 'science',\n",
              " 'explores',\n",
              " 'how',\n",
              " 'people',\n",
              " 'think',\n",
              " 'feel',\n",
              " 'and',\n",
              " 'act',\n",
              " 'in',\n",
              " 'different',\n",
              " 'situations',\n",
              " 'often',\n",
              " 'in',\n",
              " 'ways',\n",
              " 'they',\n",
              " 'don',\n",
              " 't',\n",
              " 'even',\n",
              " 'realize',\n",
              " 'Understanding',\n",
              " 'cognitive',\n",
              " 'biases',\n",
              " 'decision',\n",
              " 'making',\n",
              " 'and',\n",
              " 'emotional',\n",
              " 'responses',\n",
              " 'helps',\n",
              " 'in',\n",
              " 'designing',\n",
              " 'better',\n",
              " 'policies',\n",
              " 'improving',\n",
              " 'mental',\n",
              " 'health',\n",
              " 'interventions',\n",
              " 'and',\n",
              " 'even',\n",
              " 'predicting',\n",
              " 'market',\n",
              " 'trends',\n",
              " 'But',\n",
              " 'wait',\n",
              " 'why',\n",
              " 'do',\n",
              " 'we',\n",
              " 'sometimes',\n",
              " 'make',\n",
              " 'irrational',\n",
              " 'choices',\n",
              " 'despite',\n",
              " 'knowing',\n",
              " 'better',\n",
              " 'It',\n",
              " 's',\n",
              " 'because',\n",
              " 'our',\n",
              " 'brains',\n",
              " 'rely',\n",
              " 'on',\n",
              " 'heuristics',\n",
              " 'mental',\n",
              " 'shortcuts',\n",
              " 'that',\n",
              " 'can',\n",
              " 'lead',\n",
              " 'to',\n",
              " 'errors',\n",
              " 'in',\n",
              " 'judgment',\n",
              " 'So',\n",
              " 'behavioral',\n",
              " 'science',\n",
              " 'isn',\n",
              " 't',\n",
              " 'just',\n",
              " 'about',\n",
              " 'observation',\n",
              " 'it',\n",
              " 's',\n",
              " 'about',\n",
              " 'applying',\n",
              " 'insights',\n",
              " 'to',\n",
              " 'change',\n",
              " 'behavior',\n",
              " 'for',\n",
              " 'the',\n",
              " 'better',\n",
              " 'ethically',\n",
              " 'and',\n",
              " 'effectively']"
            ]
          },
          "metadata": {},
          "execution_count": 19
        }
      ]
    },
    {
      "cell_type": "markdown",
      "source": [
        "MWE TOKENIZER - to treat multiwords phareses as a single token, instead of splitting each of them."
      ],
      "metadata": {
        "id": "avAzCM9bwtao"
      }
    },
    {
      "cell_type": "code",
      "source": [
        "#multiword expression tokenizer\n",
        "from nltk.tokenize import MWETokenizer\n",
        "from nltk import sent_tokenize, word_tokenize\n",
        "mwe = MWETokenizer([('Behavioral', 'science'), ('cognitive','biases,')], separator='_')\n",
        "g = mwe.tokenize(para.split())\n",
        "print(g)\n",
        "\n"
      ],
      "metadata": {
        "colab": {
          "base_uri": "https://localhost:8080/"
        },
        "id": "2ZM64RzH64_N",
        "outputId": "678c997e-05f4-4939-f836-fdbbd7cb4bad"
      },
      "execution_count": null,
      "outputs": [
        {
          "output_type": "stream",
          "name": "stdout",
          "text": [
            "['Behavioral_science', 'explores', 'how', 'people', 'think,', 'feel,', 'and', 'act', 'in', 'different', 'situations—often', 'in', 'ways', 'they', \"don't\", 'even', 'realize!', '🧠💡', 'Understanding', 'cognitive_biases,', 'decision-making,', 'and', 'emotional', 'responses', 'helps', 'in', 'designing', 'better', 'policies,', 'improving', 'mental', 'health', 'interventions,', 'and', 'even', 'predicting', 'market', 'trends', '📊📉.', 'But,', 'wait—why', 'do', 'we', 'sometimes', 'make', 'irrational', 'choices', 'despite', 'knowing', 'better?', '🤔😕', 'It’s', 'because', 'our', 'brains', 'rely', 'on', 'heuristics', '(mental', 'shortcuts)', 'that', 'can', 'lead', 'to', 'errors', 'in', 'judgment!', 'So,', 'behavioral', 'science', 'isn’t', 'just', 'about', 'observation;', 'it’s', 'about', 'applying', 'insights', 'to', 'change', 'behavior', 'for', 'the', 'better—ethically', 'and', 'effectively!', '🚀✨']\n"
          ]
        }
      ]
    },
    {
      "cell_type": "markdown",
      "source": [
        "Textblob - helps split both words and sentences"
      ],
      "metadata": {
        "id": "BMJrDyl0x_Rs"
      }
    },
    {
      "cell_type": "code",
      "source": [
        "#text blob word tokennizer\n",
        "from textblob import TextBlob\n",
        "blob = TextBlob(para)\n",
        "blob.words\n",
        "blob.sentences\n"
      ],
      "metadata": {
        "colab": {
          "base_uri": "https://localhost:8080/"
        },
        "id": "vyZycNfq-3Kf",
        "outputId": "72cbe37f-50c8-4010-a298-e79571a2696c"
      },
      "execution_count": null,
      "outputs": [
        {
          "output_type": "execute_result",
          "data": {
            "text/plain": [
              "[Sentence(\"Behavioral science explores how people think, feel,\n",
              "  and act in different situations—often in ways they don't even realize!\"),\n",
              " Sentence(\"🧠💡\n",
              "  Understanding cognitive biases, decision-making, and emotional responses helps in designing better policies,\n",
              "   improving mental health interventions, and even predicting market trends 📊📉.\"),\n",
              " Sentence(\"But, wait—why do we sometimes make irrational choices despite knowing better?\"),\n",
              " Sentence(\"🤔😕\n",
              "   It’s because our brains rely on heuristics (mental shortcuts) that can lead to errors in judgment!\"),\n",
              " Sentence(\"So, behavioral science isn’t just about observation;\n",
              "   it’s about applying insights to change behavior for the better—ethically and effectively!\"),\n",
              " Sentence(\"🚀✨\")]"
            ]
          },
          "metadata": {},
          "execution_count": 13
        }
      ]
    },
    {
      "cell_type": "code",
      "source": [
        "#spacy tokenizer\n",
        "import spacy\n",
        "#for basic\n",
        "nlp = spacy.load(\"en_core_web_sm\")\n",
        "doc = nlp(para)\n",
        "[token.text for token in doc]\n",
        "\n",
        "#for sentence\n",
        "sentences = [sent.text for sent in doc.sents]\n",
        "print(sentences)\n"
      ],
      "metadata": {
        "colab": {
          "base_uri": "https://localhost:8080/"
        },
        "id": "aW76y2p2_ZeM",
        "outputId": "27ef03c2-0182-4017-952b-138c676e3c79"
      },
      "execution_count": null,
      "outputs": [
        {
          "output_type": "execute_result",
          "data": {
            "text/plain": [
              "['Behavioral',\n",
              " 'science',\n",
              " 'explores',\n",
              " 'how',\n",
              " 'people',\n",
              " 'think',\n",
              " ',',\n",
              " 'feel',\n",
              " ',',\n",
              " '\\n ',\n",
              " 'and',\n",
              " 'act',\n",
              " 'in',\n",
              " 'different',\n",
              " 'situations',\n",
              " '—',\n",
              " 'often',\n",
              " 'in',\n",
              " 'ways',\n",
              " 'they',\n",
              " 'do',\n",
              " \"n't\",\n",
              " 'even',\n",
              " 'realize',\n",
              " '!',\n",
              " '🧠',\n",
              " '💡',\n",
              " '\\n ',\n",
              " 'Understanding',\n",
              " 'cognitive',\n",
              " 'biases',\n",
              " ',',\n",
              " 'decision',\n",
              " '-',\n",
              " 'making',\n",
              " ',',\n",
              " 'and',\n",
              " 'emotional',\n",
              " 'responses',\n",
              " 'helps',\n",
              " 'in',\n",
              " 'designing',\n",
              " 'better',\n",
              " 'policies',\n",
              " ',',\n",
              " '\\n  ',\n",
              " 'improving',\n",
              " 'mental',\n",
              " 'health',\n",
              " 'interventions',\n",
              " ',',\n",
              " 'and',\n",
              " 'even',\n",
              " 'predicting',\n",
              " 'market',\n",
              " 'trends',\n",
              " '📊',\n",
              " '📉',\n",
              " '.',\n",
              " '\\n  ',\n",
              " 'But',\n",
              " ',',\n",
              " 'wait',\n",
              " '—',\n",
              " 'why',\n",
              " 'do',\n",
              " 'we',\n",
              " 'sometimes',\n",
              " 'make',\n",
              " 'irrational',\n",
              " 'choices',\n",
              " 'despite',\n",
              " 'knowing',\n",
              " 'better',\n",
              " '?',\n",
              " '🤔',\n",
              " '😕',\n",
              " '\\n  ',\n",
              " 'It',\n",
              " '’s',\n",
              " 'because',\n",
              " 'our',\n",
              " 'brains',\n",
              " 'rely',\n",
              " 'on',\n",
              " 'heuristics',\n",
              " '(',\n",
              " 'mental',\n",
              " 'shortcuts',\n",
              " ')',\n",
              " 'that',\n",
              " 'can',\n",
              " 'lead',\n",
              " 'to',\n",
              " 'errors',\n",
              " 'in',\n",
              " 'judgment',\n",
              " '!',\n",
              " 'So',\n",
              " ',',\n",
              " 'behavioral',\n",
              " 'science',\n",
              " 'is',\n",
              " 'n’t',\n",
              " 'just',\n",
              " 'about',\n",
              " 'observation',\n",
              " ';',\n",
              " '\\n   ',\n",
              " 'it',\n",
              " '’s',\n",
              " 'about',\n",
              " 'applying',\n",
              " 'insights',\n",
              " 'to',\n",
              " 'change',\n",
              " 'behavior',\n",
              " 'for',\n",
              " 'the',\n",
              " 'better',\n",
              " '—',\n",
              " 'ethically',\n",
              " 'and',\n",
              " 'effectively',\n",
              " '!',\n",
              " '🚀',\n",
              " '✨']"
            ]
          },
          "metadata": {},
          "execution_count": 29
        }
      ]
    },
    {
      "cell_type": "code",
      "source": [
        "#genism word tokenizer\n",
        "from gensim.utils import tokenize\n",
        "list(tokenize(para))\n"
      ],
      "metadata": {
        "colab": {
          "base_uri": "https://localhost:8080/"
        },
        "id": "UjeAEnYK_0w0",
        "outputId": "b6fc78f1-084c-47bd-9b58-93ba9ee89f25"
      },
      "execution_count": null,
      "outputs": [
        {
          "output_type": "execute_result",
          "data": {
            "text/plain": [
              "['Behavioral',\n",
              " 'science',\n",
              " 'explores',\n",
              " 'how',\n",
              " 'people',\n",
              " 'think',\n",
              " 'feel',\n",
              " 'and',\n",
              " 'act',\n",
              " 'in',\n",
              " 'different',\n",
              " 'situations',\n",
              " 'often',\n",
              " 'in',\n",
              " 'ways',\n",
              " 'they',\n",
              " 'don',\n",
              " 't',\n",
              " 'even',\n",
              " 'realize',\n",
              " 'Understanding',\n",
              " 'cognitive',\n",
              " 'biases',\n",
              " 'decision',\n",
              " 'making',\n",
              " 'and',\n",
              " 'emotional',\n",
              " 'responses',\n",
              " 'helps',\n",
              " 'in',\n",
              " 'designing',\n",
              " 'better',\n",
              " 'policies',\n",
              " 'improving',\n",
              " 'mental',\n",
              " 'health',\n",
              " 'interventions',\n",
              " 'and',\n",
              " 'even',\n",
              " 'predicting',\n",
              " 'market',\n",
              " 'trends',\n",
              " 'But',\n",
              " 'wait',\n",
              " 'why',\n",
              " 'do',\n",
              " 'we',\n",
              " 'sometimes',\n",
              " 'make',\n",
              " 'irrational',\n",
              " 'choices',\n",
              " 'despite',\n",
              " 'knowing',\n",
              " 'better',\n",
              " 'It',\n",
              " 's',\n",
              " 'because',\n",
              " 'our',\n",
              " 'brains',\n",
              " 'rely',\n",
              " 'on',\n",
              " 'heuristics',\n",
              " 'mental',\n",
              " 'shortcuts',\n",
              " 'that',\n",
              " 'can',\n",
              " 'lead',\n",
              " 'to',\n",
              " 'errors',\n",
              " 'in',\n",
              " 'judgment',\n",
              " 'So',\n",
              " 'behavioral',\n",
              " 'science',\n",
              " 'isn',\n",
              " 't',\n",
              " 'just',\n",
              " 'about',\n",
              " 'observation',\n",
              " 'it',\n",
              " 's',\n",
              " 'about',\n",
              " 'applying',\n",
              " 'insights',\n",
              " 'to',\n",
              " 'change',\n",
              " 'behavior',\n",
              " 'for',\n",
              " 'the',\n",
              " 'better',\n",
              " 'ethically',\n",
              " 'and',\n",
              " 'effectively']"
            ]
          },
          "metadata": {},
          "execution_count": 30
        }
      ]
    },
    {
      "cell_type": "code",
      "source": [
        "#tokenization with keras\n",
        "from tensorflow.keras.preprocessing.text import Tokenizer\n",
        "t = Tokenizer()\n",
        "t.fit_on_texts([para])\n",
        "#for encoding\n",
        "encoded = t.texts_to_sequences([para])\n",
        "print(encoded)\n",
        "#printing with index\n",
        "print(t.word_index)"
      ],
      "metadata": {
        "colab": {
          "base_uri": "https://localhost:8080/"
        },
        "id": "D6Bdw2JVAG9E",
        "outputId": "914b40a0-4ed7-41a4-d7ed-420b4bca5c66"
      },
      "execution_count": null,
      "outputs": [
        {
          "output_type": "stream",
          "name": "stdout",
          "text": [
            "[[3, 4, 11, 12, 13, 14, 15, 1, 16, 2, 17, 18, 2, 19, 20, 21, 5, 22, 23, 24, 25, 26, 27, 28, 1, 29, 30, 31, 2, 32, 6, 33, 34, 7, 35, 36, 1, 5, 37, 38, 39, 40, 41, 42, 43, 44, 45, 46, 47, 48, 49, 50, 6, 51, 8, 52, 53, 54, 55, 56, 57, 7, 58, 59, 60, 61, 9, 62, 2, 63, 64, 3, 4, 65, 66, 10, 67, 8, 10, 68, 69, 9, 70, 71, 72, 73, 74, 1, 75, 76]]\n",
            "{'and': 1, 'in': 2, 'behavioral': 3, 'science': 4, 'even': 5, 'better': 6, 'mental': 7, 'it’s': 8, 'to': 9, 'about': 10, 'explores': 11, 'how': 12, 'people': 13, 'think': 14, 'feel': 15, 'act': 16, 'different': 17, 'situations—often': 18, 'ways': 19, 'they': 20, \"don't\": 21, 'realize': 22, '🧠💡': 23, 'understanding': 24, 'cognitive': 25, 'biases': 26, 'decision': 27, 'making': 28, 'emotional': 29, 'responses': 30, 'helps': 31, 'designing': 32, 'policies': 33, 'improving': 34, 'health': 35, 'interventions': 36, 'predicting': 37, 'market': 38, 'trends': 39, '📊📉': 40, 'but': 41, 'wait—why': 42, 'do': 43, 'we': 44, 'sometimes': 45, 'make': 46, 'irrational': 47, 'choices': 48, 'despite': 49, 'knowing': 50, '🤔😕': 51, 'because': 52, 'our': 53, 'brains': 54, 'rely': 55, 'on': 56, 'heuristics': 57, 'shortcuts': 58, 'that': 59, 'can': 60, 'lead': 61, 'errors': 62, 'judgment': 63, 'so': 64, 'isn’t': 65, 'just': 66, 'observation': 67, 'applying': 68, 'insights': 69, 'change': 70, 'behavior': 71, 'for': 72, 'the': 73, 'better—ethically': 74, 'effectively': 75, '🚀✨': 76}\n"
          ]
        }
      ]
    },
    {
      "cell_type": "code",
      "source": [
        "keras = len(t.word_index)\n",
        "print(keras)"
      ],
      "metadata": {
        "colab": {
          "base_uri": "https://localhost:8080/"
        },
        "id": "05mdvvuZIiYd",
        "outputId": "5895c21d-1c25-455f-b432-60d837277cb1"
      },
      "execution_count": null,
      "outputs": [
        {
          "output_type": "stream",
          "name": "stdout",
          "text": [
            "76\n"
          ]
        }
      ]
    },
    {
      "cell_type": "code",
      "source": [],
      "metadata": {
        "id": "7IXdf7NY1uS2"
      },
      "execution_count": null,
      "outputs": []
    },
    {
      "cell_type": "code",
      "source": [
        "\n",
        "# Define tokenizers\n",
        "treebank_tokenizer = TreebankWordTokenizer()\n",
        "regex_tokenizer = RegexpTokenizer(r'\\w+')\n",
        "mwe_tokenizer = MWETokenizer([('Behavioral', 'science'), ('cognitive', 'biases,')], separator='_')\n",
        "keras_tokenizer = Tokenizer()\n",
        "keras_tokenizer.fit_on_texts([para])\n",
        "\n",
        "# Tokenization\n",
        "token_counts = {\n",
        "    \"re.split(\\\\s+)\": len(re.split(r\"\\s+\", para)),\n",
        "    \"re.findall(\\\\w+)\": len(re.findall(r\"\\w+\", para)),\n",
        "    \"sent_tokenize\": len(sent_tokenize(para)),\n",
        "    \"word_tokenize\": len(word_tokenize(para)),\n",
        "    \"wordpunct_tokenize\": len(wordpunct_tokenize(para)),\n",
        "    \"TreebankWordTokenizer\": len(treebank_tokenizer.tokenize(para)),\n",
        "    \"RegexpTokenizer(\\\\w+)\": len(regex_tokenizer.tokenize(para)),\n",
        "    \"MWETokenizer\": len(mwe_tokenizer.tokenize(para.split())),\n",
        "    \"TextBlob.words\": len(TextBlob(para).words),\n",
        "    \"TextBlob.sentences\": len(TextBlob(para).sentences),\n",
        "    \"spaCy tokens\": len([token.text for token in nlp(para)]),\n",
        "    \"spaCy sentences\": len([sent.text for sent in nlp(para).sents]),\n",
        "    \"Gensim tokenize\": len(list(tokenize(para))),\n",
        "    \"Keras word_index\": len(keras_tokenizer.word_index)\n",
        "}\n",
        "\n",
        "# Plot results\n",
        "plt.figure(figsize=(12, 6))\n",
        "plt.bar(token_counts.keys(), token_counts.values(), color='skyblue')\n",
        "plt.xticks(rotation=45, ha='right')\n",
        "plt.xlabel(\"Tokenizer\")\n",
        "plt.ylabel(\"Token Count\")\n",
        "plt.title(\"Comparison of Different Tokenizers\")\n",
        "plt.ylim(0, max(token_counts.values()) + 2)\n",
        "\n",
        "# Display values on bars\n",
        "for i, v in enumerate(token_counts.values()):\n",
        "    plt.text(i, v + 0.2, str(v), ha='center', fontsize=10)\n",
        "\n",
        "plt.show()\n"
      ],
      "metadata": {
        "colab": {
          "base_uri": "https://localhost:8080/",
          "height": 731
        },
        "id": "25p8_3fo1vVF",
        "outputId": "f181ab93-d2c0-438e-86c5-f32d11dc7b48"
      },
      "execution_count": null,
      "outputs": [
        {
          "output_type": "stream",
          "name": "stderr",
          "text": [
            "/usr/local/lib/python3.11/dist-packages/spacy/util.py:1740: UserWarning: [W111] Jupyter notebook detected: if using `prefer_gpu()` or `require_gpu()`, include it in the same cell right before `spacy.load()` to ensure that the model is loaded on the correct device. More information: http://spacy.io/usage/v3#jupyter-notebook-gpu\n",
            "  warnings.warn(Warnings.W111)\n"
          ]
        },
        {
          "output_type": "display_data",
          "data": {
            "text/plain": [
              "<Figure size 1200x600 with 1 Axes>"
            ],
            "image/png": "[encoded data removed]"
          },
          "metadata": {}
        }
      ]
    },
    {
      "cell_type": "code",
      "source": [
        "from itertools import combinations\n",
        "\n",
        "overlap_scores = {}\n",
        "tokenizer_names = list(token_counts.keys())\n",
        "\n",
        "for t1, t2 in combinations(tokenizer_names, 2):\n",
        "    set1, set2 = set(token_counts[t1]), set(token_counts[t2])\n",
        "    overlap = len(set1 & set2) / len(set1 | set2)  # Jaccard Similarity\n",
        "    overlap_scores[f\"{t1} vs {t2}\"] = overlap\n"
      ],
      "metadata": {
        "colab": {
          "base_uri": "https://localhost:8080/",
          "height": 211
        },
        "id": "kQt1idny2kZS",
        "outputId": "5c23f77e-1800-45f7-bc36-f9b7a8a06e2f"
      },
      "execution_count": null,
      "outputs": [
        {
          "output_type": "error",
          "ename": "TypeError",
          "evalue": "'int' object is not iterable",
          "traceback": [
            "\u001b[0;31m---------------------------------------------------------------------------\u001b[0m",
            "\u001b[0;31mTypeError\u001b[0m                                 Traceback (most recent call last)",
            "\u001b[0;32m<ipython-input-17-a83443ee2638>\u001b[0m in \u001b[0;36m<cell line: 0>\u001b[0;34m()\u001b[0m\n\u001b[1;32m      5\u001b[0m \u001b[0;34m\u001b[0m\u001b[0m\n\u001b[1;32m      6\u001b[0m \u001b[0;32mfor\u001b[0m \u001b[0mt1\u001b[0m\u001b[0;34m,\u001b[0m \u001b[0mt2\u001b[0m \u001b[0;32min\u001b[0m \u001b[0mcombinations\u001b[0m\u001b[0;34m(\u001b[0m\u001b[0mtokenizer_names\u001b[0m\u001b[0;34m,\u001b[0m \u001b[0;36m2\u001b[0m\u001b[0;34m)\u001b[0m\u001b[0;34m:\u001b[0m\u001b[0;34m\u001b[0m\u001b[0;34m\u001b[0m\u001b[0m\n\u001b[0;32m----> 7\u001b[0;31m     \u001b[0mset1\u001b[0m\u001b[0;34m,\u001b[0m \u001b[0mset2\u001b[0m \u001b[0;34m=\u001b[0m \u001b[0mset\u001b[0m\u001b[0;34m(\u001b[0m\u001b[0mtoken_counts\u001b[0m\u001b[0;34m[\u001b[0m\u001b[0mt1\u001b[0m\u001b[0;34m]\u001b[0m\u001b[0;34m)\u001b[0m\u001b[0;34m,\u001b[0m \u001b[0mset\u001b[0m\u001b[0;34m(\u001b[0m\u001b[0mtoken_counts\u001b[0m\u001b[0;34m[\u001b[0m\u001b[0mt2\u001b[0m\u001b[0;34m]\u001b[0m\u001b[0;34m)\u001b[0m\u001b[0;34m\u001b[0m\u001b[0;34m\u001b[0m\u001b[0m\n\u001b[0m\u001b[1;32m      8\u001b[0m     \u001b[0moverlap\u001b[0m \u001b[0;34m=\u001b[0m \u001b[0mlen\u001b[0m\u001b[0;34m(\u001b[0m\u001b[0mset1\u001b[0m \u001b[0;34m&\u001b[0m \u001b[0mset2\u001b[0m\u001b[0;34m)\u001b[0m \u001b[0;34m/\u001b[0m \u001b[0mlen\u001b[0m\u001b[0;34m(\u001b[0m\u001b[0mset1\u001b[0m \u001b[0;34m|\u001b[0m \u001b[0mset2\u001b[0m\u001b[0;34m)\u001b[0m  \u001b[0;31m# Jaccard Similarity\u001b[0m\u001b[0;34m\u001b[0m\u001b[0;34m\u001b[0m\u001b[0m\n\u001b[1;32m      9\u001b[0m     \u001b[0moverlap_scores\u001b[0m\u001b[0;34m[\u001b[0m\u001b[0;34mf\"{t1} vs {t2}\"\u001b[0m\u001b[0;34m]\u001b[0m \u001b[0;34m=\u001b[0m \u001b[0moverlap\u001b[0m\u001b[0;34m\u001b[0m\u001b[0;34m\u001b[0m\u001b[0m\n",
            "\u001b[0;31mTypeError\u001b[0m: 'int' object is not iterable"
          ]
        }
      ]
    },
    {
      "cell_type": "code",
      "source": [
        "import re\n",
        "import spacy\n",
        "import seaborn as sns\n",
        "import matplotlib.pyplot as plt\n",
        "from itertools import combinations\n",
        "from nltk.tokenize import (word_tokenize, wordpunct_tokenize, TreebankWordTokenizer, RegexpTokenizer, MWETokenizer)\n",
        "from textblob import TextBlob\n",
        "from gensim.utils import tokenize\n",
        "\n",
        "# Sample text\n",
        "para = \"Behavioral science studies cognitive biases, which impact decision-making. AI can detect such biases!\"\n",
        "\n",
        "# Load spaCy model\n",
        "nlp = spacy.load(\"en_core_web_sm\")\n",
        "\n",
        "# Define tokenizers\n",
        "treebank_tokenizer = TreebankWordTokenizer()\n",
        "regex_tokenizer = RegexpTokenizer(r'\\w+')\n",
        "mwe_tokenizer = MWETokenizer([('Behavioral', 'science'), ('cognitive', 'biases,')], separator='_')\n",
        "\n",
        "# Store tokenized words instead of counts\n",
        "tokenized_outputs = {\n",
        "    \"re.split(\\\\s+)\": re.split(r\"\\s+\", para),\n",
        "    \"re.findall(\\\\w+)\": re.findall(r\"\\w+\", para),\n",
        "    \"word_tokenize\": word_tokenize(para),\n",
        "    \"wordpunct_tokenize\": wordpunct_tokenize(para),\n",
        "    \"TreebankWordTokenizer\": treebank_tokenizer.tokenize(para),\n",
        "    \"RegexpTokenizer(\\\\w+)\": regex_tokenizer.tokenize(para),\n",
        "    \"MWETokenizer\": mwe_tokenizer.tokenize(para.split()),\n",
        "    \"TextBlob.words\": list(TextBlob(para).words),\n",
        "    \"spaCy tokens\": [token.text for token in nlp(para)],\n",
        "    \"Gensim tokenize\": list(tokenize(para)),\n",
        "}\n",
        "\n",
        "# Compute Jaccard Similarity\n",
        "overlap_scores = {}\n",
        "tokenizer_names = list(tokenized_outputs.keys())\n",
        "\n",
        "for t1, t2 in combinations(tokenizer_names, 2):\n",
        "    set1, set2 = set(tokenized_outputs[t1]), set(tokenized_outputs[t2])\n",
        "    jaccard_score = len(set1 & set2) / len(set1 | set2)  # Jaccard Similarity\n",
        "    overlap_scores[(t1, t2)] = jaccard_score\n",
        "\n",
        "# Convert to matrix form\n",
        "import pandas as pd\n",
        "df = pd.DataFrame(index=tokenizer_names, columns=tokenizer_names)\n",
        "\n",
        "for (t1, t2), score in overlap_scores.items():\n",
        "    df.loc[t1, t2] = score\n",
        "    df.loc[t2, t1] = score\n",
        "\n",
        "df.fillna(1, inplace=True)  # Fill diagonal with 1 (same tokenizer comparison)\n",
        "\n",
        "# Convert values to float (for visualization)\n",
        "df = df.astype(float)\n",
        "\n",
        "# Plot heatmap\n",
        "plt.figure(figsize=(10, 8))\n",
        "sns.heatmap(df, annot=True, cmap=\"coolwarm\", fmt=\".2f\", linewidths=0.5)\n",
        "plt.title(\" Similarity Between Tokenizers\")\n",
        "plt.xticks(rotation=45, ha='right')\n",
        "plt.yticks(rotation=0)\n",
        "plt.show()\n"
      ],
      "metadata": {
        "colab": {
          "base_uri": "https://localhost:8080/",
          "height": 666
        },
        "id": "Nr4X9KI34cLb",
        "outputId": "2d9ebae9-53f9-40cc-92b0-e2cd895e198a"
      },
      "execution_count": null,
      "outputs": [
        {
          "output_type": "stream",
          "name": "stderr",
          "text": [
            "/usr/local/lib/python3.11/dist-packages/spacy/util.py:1740: UserWarning: [W111] Jupyter notebook detected: if using `prefer_gpu()` or `require_gpu()`, include it in the same cell right before `spacy.load()` to ensure that the model is loaded on the correct device. More information: http://spacy.io/usage/v3#jupyter-notebook-gpu\n",
            "  warnings.warn(Warnings.W111)\n",
            "<ipython-input-20-b309910c5168>:52: FutureWarning: Downcasting object dtype arrays on .fillna, .ffill, .bfill is deprecated and will change in a future version. Call result.infer_objects(copy=False) instead. To opt-in to the future behavior, set `pd.set_option('future.no_silent_downcasting', True)`\n",
            "  df.fillna(1, inplace=True)  # Fill diagonal with 1 (same tokenizer comparison)\n"
          ]
        },
        {
          "output_type": "display_data",
          "data": {
            "text/plain": [
              "<Figure size 1000x800 with 2 Axes>"
            ],
            "image/png": "[encoded data removed]"
          },
          "metadata": {}
        }
      ]
    },
    {
      "cell_type": "code",
      "source": [
        "#bert tokenizer\n",
        "from transformers import BertTokenizer\n",
        "\n",
        "# Load pre-trained BERT tokenizer\n",
        "tokenizer = BertTokenizer.from_pretrained(\"bert-base-uncased\")\n",
        "\n",
        "# Sample text\n",
        "text = \"BERT is a powerful transformer model for NLP tasks!\"\n",
        "\n",
        "# Tokenize the text\n",
        "tokens = tokenizer.tokenize(para)\n",
        "print(\"Tokens:\", tokens)\n",
        "\n",
        "# Convert tokens to token IDs\n",
        "token_ids = tokenizer.convert_tokens_to_ids(tokens)\n",
        "print(\"Token IDs:\", token_ids)\n",
        "\n",
        "# Encode text (direct method, includes special tokens [CLS] and [SEP])\n",
        "encoded = tokenizer.encode(para, add_special_tokens=True)\n",
        "print(\"Encoded Token IDs:\", encoded)\n",
        "\n",
        "# Decode token IDs back to text\n",
        "decoded_text = tokenizer.decode(encoded)\n",
        "print(\"Decoded Text:\", decoded_text)\n"
      ],
      "metadata": {
        "colab": {
          "base_uri": "https://localhost:8080/"
        },
        "id": "zxKbsXzG7GXt",
        "outputId": "1d882b97-ec16-4ae9-bfcd-3fdd4729eefe"
      },
      "execution_count": null,
      "outputs": [
        {
          "output_type": "stream",
          "name": "stdout",
          "text": [
            "Tokens: ['behavioral', 'science', 'studies', 'cognitive', 'bias', '##es', ',', 'which', 'impact', 'decision', '-', 'making', '.', 'ai', 'can', 'detect', 'such', 'bias', '##es', '!']\n",
            "Token IDs: [14260, 2671, 2913, 10699, 13827, 2229, 1010, 2029, 4254, 3247, 1011, 2437, 1012, 9932, 2064, 11487, 2107, 13827, 2229, 999]\n",
            "Encoded Token IDs: [101, 14260, 2671, 2913, 10699, 13827, 2229, 1010, 2029, 4254, 3247, 1011, 2437, 1012, 9932, 2064, 11487, 2107, 13827, 2229, 999, 102]\n",
            "Decoded Text: [CLS] behavioral science studies cognitive biases, which impact decision - making. ai can detect such biases! [SEP]\n"
          ]
        }
      ]
    },
    {
      "cell_type": "markdown",
      "source": [
        "BPE is a simple form of data compression algorithm in which the most common pair of consecutive bytes of data is replaced with a byte that does not occur in that data"
      ],
      "metadata": {
        "id": "Sx9O9iUm-s4e"
      }
    },
    {
      "cell_type": "code",
      "source": [
        "from tokenizers import Tokenizer\n",
        "from tokenizers.models import BPE\n",
        "tokenizer = Tokenizer(BPE(unk_token=\"[UNK]\"))"
      ],
      "metadata": {
        "id": "DyqGFNb19BoI"
      },
      "execution_count": 1,
      "outputs": []
    },
    {
      "cell_type": "code",
      "source": [
        "from transformers import BertTokenizer\n",
        "\n",
        "tokenizer = BertTokenizer.from_pretrained(\"google-bert/bert-base-uncased\")\n",
        "tokenizer.tokenize(para)\n"
      ],
      "metadata": {
        "colab": {
          "base_uri": "https://localhost:8080/"
        },
        "id": "M9-7wjUN9aGO",
        "outputId": "b15516b4-c34a-4f6b-f4ec-2dabdc5ee58f"
      },
      "execution_count": 4,
      "outputs": [
        {
          "output_type": "execute_result",
          "data": {
            "text/plain": [
              "['behavioral',\n",
              " 'science',\n",
              " 'explores',\n",
              " 'how',\n",
              " 'people',\n",
              " 'think',\n",
              " ',',\n",
              " 'feel',\n",
              " ',',\n",
              " 'and',\n",
              " 'act',\n",
              " 'in',\n",
              " 'different',\n",
              " 'situations',\n",
              " '—',\n",
              " 'often',\n",
              " 'in',\n",
              " 'ways',\n",
              " 'they',\n",
              " 'don',\n",
              " \"'\",\n",
              " 't',\n",
              " 'even',\n",
              " 'realize',\n",
              " '!',\n",
              " '[UNK]',\n",
              " 'understanding',\n",
              " 'cognitive',\n",
              " 'bias',\n",
              " '##es',\n",
              " ',',\n",
              " 'decision',\n",
              " '-',\n",
              " 'making',\n",
              " ',',\n",
              " 'and',\n",
              " 'emotional',\n",
              " 'responses',\n",
              " 'helps',\n",
              " 'in',\n",
              " 'designing',\n",
              " 'better',\n",
              " 'policies',\n",
              " ',',\n",
              " 'improving',\n",
              " 'mental',\n",
              " 'health',\n",
              " 'interventions',\n",
              " ',',\n",
              " 'and',\n",
              " 'even',\n",
              " 'predicting',\n",
              " 'market',\n",
              " 'trends',\n",
              " '[UNK]',\n",
              " '.',\n",
              " 'but',\n",
              " ',',\n",
              " 'wait',\n",
              " '—',\n",
              " 'why',\n",
              " 'do',\n",
              " 'we',\n",
              " 'sometimes',\n",
              " 'make',\n",
              " 'irrational',\n",
              " 'choices',\n",
              " 'despite',\n",
              " 'knowing',\n",
              " 'better',\n",
              " '?',\n",
              " '[UNK]',\n",
              " 'it',\n",
              " '’',\n",
              " 's',\n",
              " 'because',\n",
              " 'our',\n",
              " 'brains',\n",
              " 'rely',\n",
              " 'on',\n",
              " 'he',\n",
              " '##uri',\n",
              " '##stic',\n",
              " '##s',\n",
              " '(',\n",
              " 'mental',\n",
              " 'short',\n",
              " '##cut',\n",
              " '##s',\n",
              " ')',\n",
              " 'that',\n",
              " 'can',\n",
              " 'lead',\n",
              " 'to',\n",
              " 'errors',\n",
              " 'in',\n",
              " 'judgment',\n",
              " '!',\n",
              " 'so',\n",
              " ',',\n",
              " 'behavioral',\n",
              " 'science',\n",
              " 'isn',\n",
              " '’',\n",
              " 't',\n",
              " 'just',\n",
              " 'about',\n",
              " 'observation',\n",
              " ';',\n",
              " 'it',\n",
              " '’',\n",
              " 's',\n",
              " 'about',\n",
              " 'applying',\n",
              " 'insights',\n",
              " 'to',\n",
              " 'change',\n",
              " 'behavior',\n",
              " 'for',\n",
              " 'the',\n",
              " 'better',\n",
              " '—',\n",
              " 'ethical',\n",
              " '##ly',\n",
              " 'and',\n",
              " 'effectively',\n",
              " '!',\n",
              " '[UNK]']"
            ]
          },
          "metadata": {},
          "execution_count": 4
        }
      ]
    }
  ]
}